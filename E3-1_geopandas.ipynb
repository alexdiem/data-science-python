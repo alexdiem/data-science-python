{
 "cells": [
  {
   "cell_type": "markdown",
   "metadata": {
    "id": "btPw4mz06tUN"
   },
   "source": [
    "# Geopandas\n",
    "\n",
    "Export traffic accident data from Vegkart. Create a series of plots (on a map and descriptive statistics) to gain an understanding of the distribution of traffic accidents.\n",
    "\n",
    "To install packages in Colaboratory use `!pip install`. You will need to run\n",
    "\n",
    "```\n",
    "!pip install geojson\n",
    "!pip install git+https://github.com/alexdiem/nvdbapi-V3.git\n",
    "```"
   ]
  },
  {
   "cell_type": "code",
   "execution_count": null,
   "metadata": {
    "id": "I71x2I47BNTQ"
   },
   "outputs": [],
   "source": []
  }
 ],
 "metadata": {
  "colab": {
   "name": "intro_python_data_analysis.ipynb",
   "provenance": []
  },
  "kernelspec": {
   "display_name": "Python 3 (ipykernel)",
   "language": "python",
   "name": "python3"
  },
  "language_info": {
   "codemirror_mode": {
    "name": "ipython",
    "version": 3
   },
   "file_extension": ".py",
   "mimetype": "text/x-python",
   "name": "python",
   "nbconvert_exporter": "python",
   "pygments_lexer": "ipython3",
   "version": "3.10.0"
  }
 },
 "nbformat": 4,
 "nbformat_minor": 4
}
