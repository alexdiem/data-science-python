{
  "nbformat": 4,
  "nbformat_minor": 0,
  "metadata": {
    "colab": {
      "name": "intro_python_data_analysis.ipynb",
      "provenance": []
    },
    "kernelspec": {
      "name": "python3",
      "display_name": "Python 3"
    },
    "language_info": {
      "name": "python"
    }
  },
  "cells": [
    {
      "cell_type": "markdown",
      "metadata": {
        "id": "0f6riz7z3Oat"
      },
      "source": [
        "# Introduction to data analysis in Python\n",
        "\n",
        "Based on Software Carpentry's \"Programming with Python\" https://software-carpentry.org/lessons/ and Data Carpentry's \"Data Analysis and Visualization in Python for Ecologists\" https://datacarpentry.org/lessons/\n",
        "\n",
        "Recommended setup: Anaconda / miniconda on Linux or Mac (Windows Subsystem for Linux if on Windows).\n"
      ]
    },
    {
      "cell_type": "markdown",
      "metadata": {
        "id": "48prCPly3dGb"
      },
      "source": [
        "## Datatypes, variables methods:\n",
        "\n",
        "### Questions\n",
        "* How do I program in Python?\n",
        "\n",
        "* How can I represent my data in Python?\n",
        "\n",
        "### Objectives\n",
        "\n",
        "* Define the following data types in Python: strings, integers, and floats.\n",
        "\n",
        "* Perform mathematical operations in Python using basic operators.\n",
        "\n",
        "* Define the following as it relates to Python: lists, tuples, and dictionaries."
      ]
    },
    {
      "cell_type": "markdown",
      "metadata": {
        "id": "k9fyN8Kj34dx"
      },
      "source": [
        "### Variables\n",
        "\n",
        "Any Python interpreter can be used as a calculator:\n",
        "\n",
        "\n"
      ]
    },
    {
      "cell_type": "code",
      "metadata": {
        "colab": {
          "base_uri": "https://localhost:8080/"
        },
        "id": "yy6bN4pw2_n2",
        "outputId": "2ba12072-5361-4a05-f9f6-34a231309c50"
      },
      "source": [
        "2 + 2"
      ],
      "execution_count": 1,
      "outputs": [
        {
          "output_type": "execute_result",
          "data": {
            "text/plain": [
              "4"
            ]
          },
          "metadata": {},
          "execution_count": 1
        }
      ]
    },
    {
      "cell_type": "code",
      "source": [
        "6 * 8"
      ],
      "metadata": {
        "colab": {
          "base_uri": "https://localhost:8080/"
        },
        "id": "lycnDwnb-XmX",
        "outputId": "7e6537d6-a40f-464a-de71-bfe20689d01b"
      },
      "execution_count": 3,
      "outputs": [
        {
          "output_type": "execute_result",
          "data": {
            "text/plain": [
              "48"
            ]
          },
          "metadata": {},
          "execution_count": 3
        }
      ]
    },
    {
      "cell_type": "markdown",
      "source": [
        "This is great but not very interesting. To do anything useful with data, we need to assign its value to a variable. In Python, we can assign a value to a variable, using the equals sign `=`. For example, we can track the weight of a patient who weighs 60 kilograms by assigning the value 60 to a variable `weight_kg`:"
      ],
      "metadata": {
        "id": "sC_j7iMb-GZq"
      }
    },
    {
      "cell_type": "code",
      "metadata": {
        "id": "B3dkHolZBkgx"
      },
      "source": [
        "weight_kg = 60"
      ],
      "execution_count": 2,
      "outputs": []
    },
    {
      "cell_type": "markdown",
      "metadata": {
        "id": "1fV4CkNN4BAv"
      },
      "source": [
        "From now on, whenever we use `weight_kg`, Python will substitute the value we assigned to it. In layman’s terms, a variable is a name for a value.\n",
        "\n",
        "In Python, variable names:\n",
        "\n",
        "* can include letters, digits, and underscores\n",
        "* cannot start with a digit\n",
        "* are case sensitive.\n",
        "\n",
        "This means that, for example:\n",
        "\n",
        "* `weight0` is a valid variable name, whereas `0weight` is not\n",
        "* `weight` and `Weight` are different variables"
      ]
    },
    {
      "cell_type": "markdown",
      "metadata": {
        "id": "Fk3F1gB-5V5h"
      },
      "source": [
        "### Built-in Python functions\n",
        "\n",
        "To carry out common tasks with data and variables in Python, the language provides us with several built-in functions. To display information to the screen, we use the print function:"
      ]
    },
    {
      "cell_type": "code",
      "metadata": {
        "colab": {
          "base_uri": "https://localhost:8080/"
        },
        "id": "6MNSjSX85S9F",
        "outputId": "58abc412-8097-4bc8-d33c-27917bcd45ae"
      },
      "source": [
        "print(weight_lb)"
      ],
      "execution_count": null,
      "outputs": [
        {
          "output_type": "stream",
          "name": "stdout",
          "text": [
            "132.66\n",
            "inflam_001\n"
          ]
        }
      ]
    },
    {
      "cell_type": "markdown",
      "metadata": {
        "id": "7F4I7oP45d6s"
      },
      "source": [
        "When we want to make use of a function, referred to as calling the function, we follow its name by parentheses. The parentheses are important: if you leave them off, the function doesn’t actually run! Sometimes you will include values or variables inside the parentheses for the function to use. In the case of print, we use the parentheses to tell the function what value we want to display. We will learn more about how functions work and how to create our own in later episodes.\n",
        "\n",
        "We can display multiple things at once using only one `print` call:"
      ]
    },
    {
      "cell_type": "code",
      "metadata": {
        "colab": {
          "base_uri": "https://localhost:8080/"
        },
        "id": "WbOCgUYx5bUN",
        "outputId": "9ba8003a-f1dd-4a6c-c20b-6d99bd4f926e"
      },
      "source": [
        "print('Weight in kilograms:', weight_kg)"
      ],
      "execution_count": 9,
      "outputs": [
        {
          "output_type": "stream",
          "name": "stdout",
          "text": [
            "Weight in kilograms: 60.3\n"
          ]
        }
      ]
    },
    {
      "cell_type": "markdown",
      "metadata": {
        "id": "1_asX1ch5tgO"
      },
      "source": [
        "Moreover, we can do arithmetic with variables right inside the print function:"
      ]
    },
    {
      "cell_type": "code",
      "metadata": {
        "colab": {
          "base_uri": "https://localhost:8080/"
        },
        "id": "jdyYyGHZ5rVe",
        "outputId": "06753496-b6fa-4b08-9d83-835b1b03de86"
      },
      "source": [
        "print('weight in pounds:', 2.2 * weight_kg)"
      ],
      "execution_count": null,
      "outputs": [
        {
          "output_type": "stream",
          "name": "stdout",
          "text": [
            "weight in pounds: 132.66\n"
          ]
        }
      ]
    },
    {
      "cell_type": "markdown",
      "metadata": {
        "id": "ljW2gsmv5zlA"
      },
      "source": [
        "The above command, however, did not change the value of weight_kg:"
      ]
    },
    {
      "cell_type": "code",
      "metadata": {
        "colab": {
          "base_uri": "https://localhost:8080/"
        },
        "id": "LVsvDPQc5wXc",
        "outputId": "ca78fe67-e8ee-4391-a851-8267d4fab8de"
      },
      "source": [
        "print(weight_kg)"
      ],
      "execution_count": null,
      "outputs": [
        {
          "output_type": "stream",
          "name": "stdout",
          "text": [
            "60.3\n"
          ]
        }
      ]
    },
    {
      "cell_type": "markdown",
      "metadata": {
        "id": "6qR0v1U856Fj"
      },
      "source": [
        "To change the value of the `weight_kg` variable, we have to assign `weight_kg` a new value using the equals = sign:"
      ]
    },
    {
      "cell_type": "code",
      "metadata": {
        "colab": {
          "base_uri": "https://localhost:8080/"
        },
        "id": "4GldIyNQ51IR",
        "outputId": "f6929713-8b86-42b6-ff15-a4262c4888dc"
      },
      "source": [
        "weight_kg = 65.0\n",
        "print('weight in kilograms is now:', weight_kg)"
      ],
      "execution_count": null,
      "outputs": [
        {
          "output_type": "stream",
          "name": "stdout",
          "text": [
            "weight in kilograms is now: 65.0\n"
          ]
        }
      ]
    },
    {
      "cell_type": "markdown",
      "metadata": {
        "id": "tjhNiNw_4MeF"
      },
      "source": [
        "### Built-in data types\n",
        "\n",
        "**Strings, integers, and floats**\n",
        "\n",
        "Python knows various types of data. Three common ones are:\n",
        "\n",
        "* integer numbers\n",
        "* floating point numbers, and\n",
        "* strings.\n",
        "\n",
        "In the example above, variable `weight_kg` has an integer value of 60. If we want to more precisely track the weight of our patient, we can use a floating point value by executing:"
      ]
    },
    {
      "cell_type": "code",
      "metadata": {
        "id": "OLFuuF7WCGlC"
      },
      "source": [
        "weight_kg = 60.3"
      ],
      "execution_count": 5,
      "outputs": []
    },
    {
      "cell_type": "markdown",
      "source": [
        "To create a string, we add single or double quotes around some text. To identify and track a patient throughout our study, we can assign each person a unique identifier by storing it in a string:"
      ],
      "metadata": {
        "id": "TRWuaAwd-qdD"
      }
    },
    {
      "cell_type": "code",
      "source": [
        "patient_id = '001'"
      ],
      "metadata": {
        "id": "mfYkIGX6-ug7"
      },
      "execution_count": 6,
      "outputs": []
    },
    {
      "cell_type": "markdown",
      "metadata": {
        "id": "DxjV3VPz5nqa"
      },
      "source": [
        "We can also call a function to check the type of a variable:"
      ]
    },
    {
      "cell_type": "code",
      "metadata": {
        "colab": {
          "base_uri": "https://localhost:8080/"
        },
        "id": "IHicqTCD5kGp",
        "outputId": "643eadfc-2334-4ed5-8097-cdd2faf770a7"
      },
      "source": [
        "type(weight_kg)"
      ],
      "execution_count": 10,
      "outputs": [
        {
          "output_type": "execute_result",
          "data": {
            "text/plain": [
              "float"
            ]
          },
          "metadata": {},
          "execution_count": 10
        }
      ]
    },
    {
      "cell_type": "code",
      "source": [
        "type(patient_id)"
      ],
      "metadata": {
        "colab": {
          "base_uri": "https://localhost:8080/"
        },
        "id": "SBqWAagVEVmH",
        "outputId": "b4213f63-bd71-4b8f-9c54-347afba0c8a9"
      },
      "execution_count": 11,
      "outputs": [
        {
          "output_type": "execute_result",
          "data": {
            "text/plain": [
              "str"
            ]
          },
          "metadata": {},
          "execution_count": 11
        }
      ]
    },
    {
      "cell_type": "markdown",
      "source": [
        "**Sequences: Lists and Tuples**\n",
        "\n",
        "Lists are a common data structure to hold an ordered sequence of elements. Each element can be accessed by an index. Note that Python indexes start with 0 instead of 1:\n"
      ],
      "metadata": {
        "id": "zw-OUK_kCriZ"
      }
    },
    {
      "cell_type": "code",
      "source": [
        "numbers = [1, 2, 3]\n",
        "numbers[0]"
      ],
      "metadata": {
        "colab": {
          "base_uri": "https://localhost:8080/"
        },
        "id": "HMGx4QdYC15_",
        "outputId": "82f590ee-3dc7-4943-c6af-7e8c8a9ad262"
      },
      "execution_count": 7,
      "outputs": [
        {
          "output_type": "execute_result",
          "data": {
            "text/plain": [
              "1"
            ]
          },
          "metadata": {},
          "execution_count": 7
        }
      ]
    },
    {
      "cell_type": "markdown",
      "source": [
        "A `for` loop can be used to access the elements in a list or other Python data structure one at a time:"
      ],
      "metadata": {
        "id": "X_js4XIsC6Zx"
      }
    },
    {
      "cell_type": "code",
      "source": [
        "for num in numbers:\n",
        "    print(num)"
      ],
      "metadata": {
        "colab": {
          "base_uri": "https://localhost:8080/"
        },
        "id": "-R1nnASPC9Ji",
        "outputId": "950c6916-124f-469d-dc67-ddf79cd3bdb1"
      },
      "execution_count": 8,
      "outputs": [
        {
          "output_type": "stream",
          "name": "stdout",
          "text": [
            "1\n",
            "2\n",
            "3\n"
          ]
        }
      ]
    },
    {
      "cell_type": "markdown",
      "source": [
        "**Indentation** is very important in Python. Note that the second line in the example above is indented.\n",
        "\n",
        "To add elements to the end of a list, we can use the `append` method. Methods are a way to interact with an object (a list, for example). We can invoke a method using the dot . followed by the method name and a list of arguments in parentheses. Let’s look at an example using `append`:"
      ],
      "metadata": {
        "id": "LFk0ozowDAFz"
      }
    },
    {
      "cell_type": "code",
      "source": [
        "numbers.append(4)\n",
        "print(numbers)"
      ],
      "metadata": {
        "colab": {
          "base_uri": "https://localhost:8080/"
        },
        "id": "NQO8yyQ-EhnH",
        "outputId": "22390346-a74b-4df8-fc2e-87fbe8b51258"
      },
      "execution_count": 12,
      "outputs": [
        {
          "output_type": "stream",
          "name": "stdout",
          "text": [
            "[1, 2, 3, 4]\n"
          ]
        }
      ]
    },
    {
      "cell_type": "markdown",
      "source": [
        "To find out what methods are available for an object, we can use the built-in `help` command:"
      ],
      "metadata": {
        "id": "8MJZlJ0BEkH8"
      }
    },
    {
      "cell_type": "code",
      "source": [
        "help(numbers)"
      ],
      "metadata": {
        "colab": {
          "base_uri": "https://localhost:8080/"
        },
        "id": "h_3z_H8hEl6-",
        "outputId": "ea87f205-16b1-4bbd-e035-27a181b2d3ec"
      },
      "execution_count": 13,
      "outputs": [
        {
          "output_type": "stream",
          "name": "stdout",
          "text": [
            "Help on list object:\n",
            "\n",
            "class list(object)\n",
            " |  list(iterable=(), /)\n",
            " |  \n",
            " |  Built-in mutable sequence.\n",
            " |  \n",
            " |  If no argument is given, the constructor creates a new empty list.\n",
            " |  The argument must be an iterable if specified.\n",
            " |  \n",
            " |  Methods defined here:\n",
            " |  \n",
            " |  __add__(self, value, /)\n",
            " |      Return self+value.\n",
            " |  \n",
            " |  __contains__(self, key, /)\n",
            " |      Return key in self.\n",
            " |  \n",
            " |  __delitem__(self, key, /)\n",
            " |      Delete self[key].\n",
            " |  \n",
            " |  __eq__(self, value, /)\n",
            " |      Return self==value.\n",
            " |  \n",
            " |  __ge__(self, value, /)\n",
            " |      Return self>=value.\n",
            " |  \n",
            " |  __getattribute__(self, name, /)\n",
            " |      Return getattr(self, name).\n",
            " |  \n",
            " |  __getitem__(...)\n",
            " |      x.__getitem__(y) <==> x[y]\n",
            " |  \n",
            " |  __gt__(self, value, /)\n",
            " |      Return self>value.\n",
            " |  \n",
            " |  __iadd__(self, value, /)\n",
            " |      Implement self+=value.\n",
            " |  \n",
            " |  __imul__(self, value, /)\n",
            " |      Implement self*=value.\n",
            " |  \n",
            " |  __init__(self, /, *args, **kwargs)\n",
            " |      Initialize self.  See help(type(self)) for accurate signature.\n",
            " |  \n",
            " |  __iter__(self, /)\n",
            " |      Implement iter(self).\n",
            " |  \n",
            " |  __le__(self, value, /)\n",
            " |      Return self<=value.\n",
            " |  \n",
            " |  __len__(self, /)\n",
            " |      Return len(self).\n",
            " |  \n",
            " |  __lt__(self, value, /)\n",
            " |      Return self<value.\n",
            " |  \n",
            " |  __mul__(self, value, /)\n",
            " |      Return self*value.\n",
            " |  \n",
            " |  __ne__(self, value, /)\n",
            " |      Return self!=value.\n",
            " |  \n",
            " |  __repr__(self, /)\n",
            " |      Return repr(self).\n",
            " |  \n",
            " |  __reversed__(self, /)\n",
            " |      Return a reverse iterator over the list.\n",
            " |  \n",
            " |  __rmul__(self, value, /)\n",
            " |      Return value*self.\n",
            " |  \n",
            " |  __setitem__(self, key, value, /)\n",
            " |      Set self[key] to value.\n",
            " |  \n",
            " |  __sizeof__(self, /)\n",
            " |      Return the size of the list in memory, in bytes.\n",
            " |  \n",
            " |  append(self, object, /)\n",
            " |      Append object to the end of the list.\n",
            " |  \n",
            " |  clear(self, /)\n",
            " |      Remove all items from list.\n",
            " |  \n",
            " |  copy(self, /)\n",
            " |      Return a shallow copy of the list.\n",
            " |  \n",
            " |  count(self, value, /)\n",
            " |      Return number of occurrences of value.\n",
            " |  \n",
            " |  extend(self, iterable, /)\n",
            " |      Extend list by appending elements from the iterable.\n",
            " |  \n",
            " |  index(self, value, start=0, stop=9223372036854775807, /)\n",
            " |      Return first index of value.\n",
            " |      \n",
            " |      Raises ValueError if the value is not present.\n",
            " |  \n",
            " |  insert(self, index, object, /)\n",
            " |      Insert object before index.\n",
            " |  \n",
            " |  pop(self, index=-1, /)\n",
            " |      Remove and return item at index (default last).\n",
            " |      \n",
            " |      Raises IndexError if list is empty or index is out of range.\n",
            " |  \n",
            " |  remove(self, value, /)\n",
            " |      Remove first occurrence of value.\n",
            " |      \n",
            " |      Raises ValueError if the value is not present.\n",
            " |  \n",
            " |  reverse(self, /)\n",
            " |      Reverse *IN PLACE*.\n",
            " |  \n",
            " |  sort(self, /, *, key=None, reverse=False)\n",
            " |      Stable sort *IN PLACE*.\n",
            " |  \n",
            " |  ----------------------------------------------------------------------\n",
            " |  Static methods defined here:\n",
            " |  \n",
            " |  __new__(*args, **kwargs) from builtins.type\n",
            " |      Create and return a new object.  See help(type) for accurate signature.\n",
            " |  \n",
            " |  ----------------------------------------------------------------------\n",
            " |  Data and other attributes defined here:\n",
            " |  \n",
            " |  __hash__ = None\n",
            "\n"
          ]
        }
      ]
    },
    {
      "cell_type": "markdown",
      "source": [
        "A **tuple** is similar to a list in that it’s an ordered sequence of elements. However, tuples can not be changed once created (they are “immutable”). Tuples are created by placing comma-separated values inside parentheses ()."
      ],
      "metadata": {
        "id": "sWC65K_sEq0i"
      }
    },
    {
      "cell_type": "code",
      "source": [
        "# Tuples use parentheses\n",
        "a_tuple = (1, 2, 3)\n",
        "another_tuple = ('blue', 'green', 'red')\n",
        "\n",
        "# Note: lists use square brackets\n",
        "a_list = [1, 2, 3]"
      ],
      "metadata": {
        "id": "i1f6m04tEtiC"
      },
      "execution_count": 14,
      "outputs": []
    },
    {
      "cell_type": "markdown",
      "source": [
        "A **dictionary** is a container that holds pairs of objects - keys and values."
      ],
      "metadata": {
        "id": "VAtZtlc2E5c_"
      }
    },
    {
      "cell_type": "code",
      "source": [
        "translation = {'one': 'first', 'two': 'second'}\n",
        "translation['one']"
      ],
      "metadata": {
        "colab": {
          "base_uri": "https://localhost:8080/",
          "height": 35
        },
        "id": "cJvDuY9hE8W4",
        "outputId": "1f0b10f7-4adc-477f-913f-ec185c82f662"
      },
      "execution_count": 15,
      "outputs": [
        {
          "output_type": "execute_result",
          "data": {
            "application/vnd.google.colaboratory.intrinsic+json": {
              "type": "string"
            },
            "text/plain": [
              "'first'"
            ]
          },
          "metadata": {},
          "execution_count": 15
        }
      ]
    },
    {
      "cell_type": "markdown",
      "source": [
        "Dictionaries work a lot like lists - except that you index them with *keys*. You can think about a key as a name or unique identifier for the value it corresponds to."
      ],
      "metadata": {
        "id": "3Mx0nrTpE_WS"
      }
    },
    {
      "cell_type": "code",
      "source": [
        "rev = {'first': 'one', 'second': 'two'}\n",
        "rev['first']"
      ],
      "metadata": {
        "colab": {
          "base_uri": "https://localhost:8080/",
          "height": 35
        },
        "id": "d9UVD2QBFGs2",
        "outputId": "889ff976-cfe6-44ae-90e3-8604d19b4279"
      },
      "execution_count": 16,
      "outputs": [
        {
          "output_type": "execute_result",
          "data": {
            "application/vnd.google.colaboratory.intrinsic+json": {
              "type": "string"
            },
            "text/plain": [
              "'one'"
            ]
          },
          "metadata": {},
          "execution_count": 16
        }
      ]
    },
    {
      "cell_type": "markdown",
      "source": [
        "To add an item to the dictionary we assign a value to a new key:"
      ],
      "metadata": {
        "id": "fY6Eo95WFKCr"
      }
    },
    {
      "cell_type": "code",
      "source": [
        "rev = {'first': 'one', 'second': 'two'}\n",
        "rev['third'] = 'three'\n",
        "rev"
      ],
      "metadata": {
        "colab": {
          "base_uri": "https://localhost:8080/"
        },
        "id": "vVuS7PzMFMLA",
        "outputId": "ce90b98c-1dca-4dde-adc1-9af139d931a9"
      },
      "execution_count": 17,
      "outputs": [
        {
          "output_type": "execute_result",
          "data": {
            "text/plain": [
              "{'first': 'one', 'second': 'two', 'third': 'three'}"
            ]
          },
          "metadata": {},
          "execution_count": 17
        }
      ]
    },
    {
      "cell_type": "markdown",
      "source": [
        "Using `for` loops with dictionaries is a little more complicated. We can do this in two ways:"
      ],
      "metadata": {
        "id": "Gg4PVYiDFQRb"
      }
    },
    {
      "cell_type": "code",
      "source": [
        "for key, value in rev.items():\n",
        "    print(key, '->', value)"
      ],
      "metadata": {
        "colab": {
          "base_uri": "https://localhost:8080/"
        },
        "id": "FKEopYjFFTSl",
        "outputId": "ab80d293-62dd-4b1c-8011-afd0dbc00d95"
      },
      "execution_count": 18,
      "outputs": [
        {
          "output_type": "stream",
          "name": "stdout",
          "text": [
            "first -> one\n",
            "second -> two\n",
            "third -> three\n"
          ]
        }
      ]
    },
    {
      "cell_type": "code",
      "source": [
        "for key in rev.keys():\n",
        "    print(key, '->', rev[key])"
      ],
      "metadata": {
        "colab": {
          "base_uri": "https://localhost:8080/"
        },
        "id": "XEjRLSF7FWZ-",
        "outputId": "7c773cd6-536a-4277-aebf-c175aaf9b069"
      },
      "execution_count": 19,
      "outputs": [
        {
          "output_type": "stream",
          "name": "stdout",
          "text": [
            "first -> one\n",
            "second -> two\n",
            "third -> three\n"
          ]
        }
      ]
    },
    {
      "cell_type": "markdown",
      "metadata": {
        "id": "7FMyrFhy5KCb"
      },
      "source": [
        "### Functions\n",
        "\n",
        "Defining a section of code as a **function** in Python is done using the `def` keyword. For example a function that takes two arguments and returns their sum can be defined as:"
      ]
    },
    {
      "cell_type": "code",
      "metadata": {
        "id": "0DDGrpBK49cV",
        "colab": {
          "base_uri": "https://localhost:8080/"
        },
        "outputId": "0c287dd7-35e8-4fb6-fa48-c2b7ca21ad63"
      },
      "source": [
        "def add_function(a, b):\n",
        "    result = a + b\n",
        "    return result\n",
        "\n",
        "z = add_function(20, 22)\n",
        "print(z)"
      ],
      "execution_count": 1,
      "outputs": [
        {
          "output_type": "stream",
          "name": "stdout",
          "text": [
            "42\n"
          ]
        }
      ]
    },
    {
      "cell_type": "markdown",
      "metadata": {
        "id": "zk85FmIS5RIe"
      },
      "source": [
        "### Conditionals\n",
        "\n",
        "We can ask Python to take different actions, depending on a condition, with an `if` statement:"
      ]
    },
    {
      "cell_type": "code",
      "metadata": {
        "id": "oiK58BJc5OqL",
        "colab": {
          "base_uri": "https://localhost:8080/"
        },
        "outputId": "e62a954c-3ccf-4c67-a260-b8faaeb93fee"
      },
      "source": [
        "num = 37\n",
        "if num > 100:\n",
        "    print('greater')\n",
        "else:\n",
        "    print('not greater')\n",
        "print('done')"
      ],
      "execution_count": 2,
      "outputs": [
        {
          "output_type": "stream",
          "name": "stdout",
          "text": [
            "not greater\n",
            "done\n"
          ]
        }
      ]
    },
    {
      "cell_type": "markdown",
      "source": [
        "The second line of this code uses the keyword `if` to tell Python that we want to make a choice. If the test that follows the `if` statement is true, the body of the `if` (i.e., the set of lines indented underneath it) is executed, and “greater” is printed. If the test is false, the body of the else is executed instead, and “not greater” is printed. Only one or the other is ever executed before continuing on with program execution to print “done”.\n",
        "\n",
        "Conditional statements don’t have to include an `else`. If there isn’t one, Python simply does nothing if the test is false:"
      ],
      "metadata": {
        "id": "-PJ5JMYG6Sz5"
      }
    },
    {
      "cell_type": "code",
      "source": [
        "num = 53\n",
        "print('before conditional...')\n",
        "if num > 100:\n",
        "    print(num, 'is greater than 100')\n",
        "print('...after conditional')"
      ],
      "metadata": {
        "colab": {
          "base_uri": "https://localhost:8080/"
        },
        "id": "27gBdH-j6diE",
        "outputId": "00681979-21d4-43bc-90ef-963e1f635b6e"
      },
      "execution_count": 3,
      "outputs": [
        {
          "output_type": "stream",
          "name": "stdout",
          "text": [
            "before conditional...\n",
            "...after conditional\n"
          ]
        }
      ]
    },
    {
      "cell_type": "markdown",
      "source": [
        "We can also chain several tests together using `elif`, which is short for “else if”. The following Python code uses `elif` to print the sign of a number."
      ],
      "metadata": {
        "id": "SUkI6uOG6hsP"
      }
    },
    {
      "cell_type": "code",
      "source": [
        "num = -3\n",
        "\n",
        "if num > 0:\n",
        "    print(num, 'is positive')\n",
        "elif num == 0:\n",
        "    print(num, 'is zero')\n",
        "else:\n",
        "    print(num, 'is negative')"
      ],
      "metadata": {
        "colab": {
          "base_uri": "https://localhost:8080/"
        },
        "id": "ADIQcpjO6kzW",
        "outputId": "f09bf81b-388c-4a0c-d893-bdb2bd8bf9b0"
      },
      "execution_count": 4,
      "outputs": [
        {
          "output_type": "stream",
          "name": "stdout",
          "text": [
            "-3 is negative\n"
          ]
        }
      ]
    },
    {
      "cell_type": "markdown",
      "source": [
        "### Boolean statements\n",
        "\n",
        "Along with the > and == operators we have already used for comparing values in our conditionals, there are a few more options to know about:\n",
        "\n",
        "- `>`: greater than\n",
        "- `<`: less than\n",
        "- `==`: equal to\n",
        "- `!=`: does not equal\n",
        "- `>=`: greater than or equal to\n",
        "- `<=`: less than or equal to\n",
        "\n",
        "We can also combine tests using `and` and `or`. `and` is only true if both parts are true:"
      ],
      "metadata": {
        "id": "G7ATb9j36yd3"
      }
    },
    {
      "cell_type": "code",
      "source": [
        "if (1 > 0) and (-1 >= 0):\n",
        "    print('both parts are true')\n",
        "else:\n",
        "    print('at least one part is false')"
      ],
      "metadata": {
        "colab": {
          "base_uri": "https://localhost:8080/"
        },
        "id": "careaIck60b4",
        "outputId": "7572380a-7ee7-4eb5-d93b-e699134aa640"
      },
      "execution_count": 5,
      "outputs": [
        {
          "output_type": "stream",
          "name": "stdout",
          "text": [
            "at least one part is false\n"
          ]
        }
      ]
    },
    {
      "cell_type": "markdown",
      "source": [
        "while `or` is true if at least one part is true:"
      ],
      "metadata": {
        "id": "oO49ewMX-RcZ"
      }
    },
    {
      "cell_type": "code",
      "source": [
        "if (1 < 0) or (1 >= 0):\n",
        "    print('at least one test is true')"
      ],
      "metadata": {
        "colab": {
          "base_uri": "https://localhost:8080/"
        },
        "id": "Ij9kni4M-UcX",
        "outputId": "d878c36b-00d3-4372-e419-85be4b67141d"
      },
      "execution_count": 6,
      "outputs": [
        {
          "output_type": "stream",
          "name": "stdout",
          "text": [
            "at least one test is true\n"
          ]
        }
      ]
    },
    {
      "cell_type": "markdown",
      "source": [
        "Sometimes it is useful to check whether some condition is not true. The Boolean operator `not` can do this explicitly"
      ],
      "metadata": {
        "id": "wSApzur8AURL"
      }
    },
    {
      "cell_type": "code",
      "source": [
        "if not (1 < 0):\n",
        "    print('1 is not smaller than 0')"
      ],
      "metadata": {
        "colab": {
          "base_uri": "https://localhost:8080/"
        },
        "id": "cYrJ-VW0AWcM",
        "outputId": "5b4c48e4-093a-48c7-de76-7c6b70dc0d3d"
      },
      "execution_count": 11,
      "outputs": [
        {
          "output_type": "stream",
          "name": "stdout",
          "text": [
            "1 is not smaller than 0\n"
          ]
        }
      ]
    },
    {
      "cell_type": "markdown",
      "metadata": {
        "id": "kw3rydEKvryV"
      },
      "source": [
        "### Importing libraries\n",
        "\n",
        "Importing a library is like getting a piece of lab equipment out of a storage locker and setting it up on the bench. Libraries provide additional functionality to the basic Python package, much like a new piece of equipment adds functionality to a lab space. Just like in the lab, importing too many libraries can sometimes complicate and slow down your programs - so we only import what we need for each program.\n",
        "\n",
        "Once we’ve imported the library, we can ask the library to perform functions that are not built-in:"
      ]
    },
    {
      "cell_type": "code",
      "metadata": {
        "colab": {
          "base_uri": "https://localhost:8080/"
        },
        "id": "RuIt2ZSJwFow",
        "outputId": "61848cfe-ca46-4796-ed07-48240be7a41c"
      },
      "source": [
        "import numpy\n",
        "weight_kg = 60.6\n",
        "print(numpy.round(weight_kg))\n"
      ],
      "execution_count": null,
      "outputs": [
        {
          "output_type": "stream",
          "name": "stdout",
          "text": [
            "61.0\n"
          ]
        }
      ]
    },
    {
      "cell_type": "markdown",
      "metadata": {
        "id": "CJvHibtvxLAk"
      },
      "source": [
        "It is common to rename libraries to appreviated names:"
      ]
    },
    {
      "cell_type": "code",
      "metadata": {
        "colab": {
          "base_uri": "https://localhost:8080/"
        },
        "id": "U5BpOQSSxgUM",
        "outputId": "bf30558e-c266-40f4-9f89-f438f1dbc95e"
      },
      "source": [
        "import numpy as np\n",
        "print(np.round(weight_kg))"
      ],
      "execution_count": null,
      "outputs": [
        {
          "output_type": "stream",
          "name": "stdout",
          "text": [
            "61.0\n"
          ]
        }
      ]
    },
    {
      "cell_type": "markdown",
      "metadata": {
        "id": "btPw4mz06tUN"
      },
      "source": [
        "### Exercises\n",
        "\n",
        "What values do the variables mass and age have after each of the following statements? Test your answer by executing the lines."
      ]
    },
    {
      "cell_type": "code",
      "metadata": {
        "id": "cfQGG9HJ6g5W"
      },
      "source": [
        "mass = 47.5\n",
        "age = 122\n",
        "mass = mass * 2.0\n",
        "age = age - 20"
      ],
      "execution_count": null,
      "outputs": []
    },
    {
      "cell_type": "markdown",
      "metadata": {
        "id": "s9aFW19967B0"
      },
      "source": [
        "Python allows you to assign multiple values to multiple variables in one line by separating the variables and values with commas. What does the following program print out?"
      ]
    },
    {
      "cell_type": "code",
      "metadata": {
        "id": "hUoa9Rhi69Bt"
      },
      "source": [
        "first, second = 'Grace', 'Hopper'\n",
        "third, fourth = second, first\n",
        "print(third, fourth)"
      ],
      "execution_count": null,
      "outputs": []
    },
    {
      "cell_type": "markdown",
      "metadata": {
        "id": "XSfYWJQj6_zR"
      },
      "source": [
        "What are the data types of the following variables?"
      ]
    },
    {
      "cell_type": "code",
      "metadata": {
        "id": "EQX91tlR7B7N"
      },
      "source": [
        "planet = 'Earth'\n",
        "apples = 5\n",
        "distance = 10.5"
      ],
      "execution_count": null,
      "outputs": []
    },
    {
      "cell_type": "code",
      "source": [
        "a_list = [1, 2, 3]\n",
        "a_tuple = (1, 2, 3)"
      ],
      "metadata": {
        "id": "h7jMP-Ru-h73"
      },
      "execution_count": 8,
      "outputs": []
    },
    {
      "cell_type": "markdown",
      "source": [
        "Change the value of the second element in both the list and tuple to 5:"
      ],
      "metadata": {
        "id": "A4pj3oAZ-j0p"
      }
    },
    {
      "cell_type": "code",
      "source": [
        ""
      ],
      "metadata": {
        "id": "VhBOSIVF-v1G"
      },
      "execution_count": null,
      "outputs": []
    },
    {
      "cell_type": "markdown",
      "source": [
        "Write a function `square` that takes a `list` or `tuple` as its argument and returns a respective `list` or `tuple` containing the squares of the values in the original list."
      ],
      "metadata": {
        "id": "jzdHagQo-xSX"
      }
    },
    {
      "cell_type": "code",
      "source": [
        ""
      ],
      "metadata": {
        "id": "QzpBLnTd_7c1"
      },
      "execution_count": null,
      "outputs": []
    },
    {
      "cell_type": "markdown",
      "source": [
        "Write a function `is_number` that takes an argument and returns whether the argument is a number."
      ],
      "metadata": {
        "id": "_KKtxE7tAmlT"
      }
    },
    {
      "cell_type": "code",
      "source": [
        ""
      ],
      "metadata": {
        "id": "I71x2I47BNTQ"
      },
      "execution_count": null,
      "outputs": []
    },
    {
      "cell_type": "markdown",
      "metadata": {
        "id": "P5weZKUk7DuZ"
      },
      "source": [
        "### Key points\n",
        "\n",
        "* Basic data types in Python include integers, strings, and floating-point numbers.\n",
        "\n",
        "* Use `variable = value` to assign a value to a variable in order to record it in memory.\n",
        "\n",
        "* Variables are created on demand whenever a value is assigned to them.\n",
        "\n",
        "* Built-in functions are always available to use.\n",
        "\n",
        "* Lists and tuples are similar in that they are ordered lists of elements; they differ in that a tuple is immutable (cannot be changed).\n",
        "\n",
        "* Dictionaries are data structures that provide mappings between keys and values.\n",
        "\n",
        "* Use for variable in sequence to process the elements of a sequence one at a time.\n",
        "\n",
        "* Use if condition to start a conditional statement, elif condition to provide additional tests, and else to provide a default.\n",
        "\n"
      ]
    },
    {
      "cell_type": "markdown",
      "metadata": {
        "id": "uNptubDb77Fr"
      },
      "source": [
        "## Data analysis using Pandas\n",
        "\n",
        "### Questions\n",
        "\n",
        "- How can I import data in Python?\n",
        "- What is Pandas?\n",
        "- Why should I use Pandas to work with data?\n",
        "\n",
        "### Objectives\n",
        "\n",
        "- Navigate the workshop directory and download a dataset.\n",
        "- Explain what a library is and what libraries are used for.\n",
        "- Describe what the Python Data Analysis Library (Pandas) is.\n",
        "- Load the Python Data Analysis Library (Pandas).\n",
        "- Use read_csv to read tabular data into Python.\n",
        "- Describe what a DataFrame is in Python.\n",
        "- Access and summarize data stored in a DataFrame.\n",
        "- Define indexing as it relates to data structures.\n",
        "- Perform basic mathematical operations and summary statistics on data in a Pandas DataFrame.\n",
        "- Create simple plots."
      ]
    },
    {
      "cell_type": "markdown",
      "metadata": {
        "id": "Pb5e4BAXyNlQ"
      },
      "source": [
        "### Working With Pandas DataFrames in Python\n",
        "\n",
        "We can automate the process of performing data manipulations in Python. It’s efficient to spend time building the code to perform these tasks because once it’s built, we can use it over and over on different datasets that use a similar format. This makes our methods easily reproducible. We can also easily share our code with colleagues and they can replicate the same analysis.\n",
        "\n",
        "### Our Data\n",
        "\n",
        "For this lesson, we will be real data from traffic registration points in Norway.\n",
        "\n",
        "We are studying (...). The dataset is stored as a .csv file: each row holds information for a single animal, and the columns represent:"
      ]
    },
    {
      "cell_type": "markdown",
      "source": [
        "\n",
        "\n",
        "```\n",
        "_id;_index;_score;_type;county_id;created_at_timestamp;datalogger_type;event_emitted_timestamp;event_number;event_timestamp;firmware_version;klokketime;lane;length;qspeed;region_id;speed;time_gap;traffic_registration_point_id;valid_classification;valid_event;valid_length;valid_speed;vehicle_type;vehicle_type_quality;vehicle_type_raw;weight;with_traffic_registration_point_direction;wrong_direction\t\t\t\t\t\t\t\n",
        "1-27849732;traffic_event_vehicle_2020_10;;traffic_event_vehicle;18;2020-10-26\t 02:16:08.090;EMU;2020-10-25\t 23:59:53.564;27849732;2020-10-25\t 23:59:53.564;1.04 EMU3/15606;23;4;4\t5;0;1;73\t2;123\t9;1;true;true;true;true;2;;LMV2;0;false;false\t\n",
        "1-27849731;traffic_event_vehicle_2020_10;;traffic_event_vehicle;18;2020-10-26\t 02:16:08.116;EMU;2020-10-25\t 23:58:28.296;27849731;2020-10-25\t 23:58:28.296;1.04 EMU3/15606;23;3;4\t6;0;1;75\t4;1\t8;1;true;true;true;true;2;;LMV2;0;true;false\t\n",
        "1-27849730;traffic_event_vehicle_2020_10;;traffic_event_vehicle;18;2020-10-26\t 02:16:08.066;EMU;2020-10-25\t 23:58:25.527;27849730;2020-10-25\t 23:58:25.527;1.04 EMU3/15606;23;3;4\t6;0;1;80\t1;6\t8;1;true;true;true;true;2;;LMV2;0;true;false\t\n",
        "1-27849729;traffic_event_vehicle_2020_10;;traffic_event_vehicle;18;2020-10-26\t 02:16:08.085;EMU;2020-10-25\t 23:58:19.077;27849729;2020-10-25\t 23:58:19.077;1.04 EMU3/15606;23;3;4\t1;0;1;75\t4;69\t9;1;true;true;true;true;2;;LMV2;0;true;false\t\n",
        "```\n",
        "\n"
      ],
      "metadata": {
        "id": "TFVk8oroGWxv"
      }
    },
    {
      "cell_type": "code",
      "metadata": {
        "id": "KDspbsx58HY8"
      },
      "source": [
        "import pandas as pd\n",
        "import numpy as np"
      ],
      "execution_count": null,
      "outputs": []
    },
    {
      "cell_type": "markdown",
      "metadata": {
        "id": "ozna4wNh0nDD"
      },
      "source": [
        "In Google Colaboratory we add files using"
      ]
    },
    {
      "cell_type": "code",
      "metadata": {
        "colab": {
          "resources": {
            "http://localhost:8080/nbextensions/google.colab/files.js": {
              "data": "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",
              "ok": true,
              "headers": [
                [
                  "content-type",
                  "application/javascript"
                ]
              ],
              "status": 200,
              "status_text": ""
            }
          },
          "base_uri": "https://localhost:8080/",
          "height": 55
        },
        "id": "k2U6d_2YzvEy",
        "outputId": "22dd17bc-9f7a-4bd4-b5ca-0e501d4d08df"
      },
      "source": [
        "from google.colab import files\n",
        "uploaded = files.upload()"
      ],
      "execution_count": null,
      "outputs": [
        {
          "output_type": "display_data",
          "data": {
            "text/html": [
              "\n",
              "     <input type=\"file\" id=\"files-3f8449ba-c12c-44ce-86c0-36917d83fba7\" name=\"files[]\" multiple disabled\n",
              "        style=\"border:none\" />\n",
              "     <output id=\"result-3f8449ba-c12c-44ce-86c0-36917d83fba7\">\n",
              "      Upload widget is only available when the cell has been executed in the\n",
              "      current browser session. Please rerun this cell to enable.\n",
              "      </output>\n",
              "      <script src=\"/nbextensions/google.colab/files.js\"></script> "
            ],
            "text/plain": [
              "<IPython.core.display.HTML object>"
            ]
          },
          "metadata": {}
        },
        {
          "output_type": "stream",
          "name": "stdout",
          "text": [
            "Saving trafikkdata_hourly_54688V625212.csv to trafikkdata_hourly_54688V625212.csv\n"
          ]
        }
      ]
    },
    {
      "cell_type": "markdown",
      "metadata": {
        "id": "8giAyTbn2zon"
      },
      "source": [
        "We can then ask Pandas to read our data file for us:"
      ]
    },
    {
      "cell_type": "code",
      "metadata": {
        "colab": {
          "base_uri": "https://localhost:8080/",
          "height": 424
        },
        "id": "6XYWXI--0rgZ",
        "outputId": "8fa2106d-96be-408a-b717-c7a793a22e5d"
      },
      "source": [
        "pd.read_csv('trafikkdata_hourly_54688V625212.csv')"
      ],
      "execution_count": null,
      "outputs": [
        {
          "output_type": "execute_result",
          "data": {
            "text/html": [
              "<div>\n",
              "<style scoped>\n",
              "    .dataframe tbody tr th:only-of-type {\n",
              "        vertical-align: middle;\n",
              "    }\n",
              "\n",
              "    .dataframe tbody tr th {\n",
              "        vertical-align: top;\n",
              "    }\n",
              "\n",
              "    .dataframe thead th {\n",
              "        text-align: right;\n",
              "    }\n",
              "</style>\n",
              "<table border=\"1\" class=\"dataframe\">\n",
              "  <thead>\n",
              "    <tr style=\"text-align: right;\">\n",
              "      <th></th>\n",
              "      <th>time</th>\n",
              "      <th>trafikk_id</th>\n",
              "      <th>total.volumeNumbers.volume</th>\n",
              "    </tr>\n",
              "  </thead>\n",
              "  <tbody>\n",
              "    <tr>\n",
              "      <th>0</th>\n",
              "      <td>2015-05-13 15:00:00+00:00</td>\n",
              "      <td>54688V625212</td>\n",
              "      <td>526.0</td>\n",
              "    </tr>\n",
              "    <tr>\n",
              "      <th>1</th>\n",
              "      <td>2015-05-13 16:00:00+00:00</td>\n",
              "      <td>54688V625212</td>\n",
              "      <td>434.0</td>\n",
              "    </tr>\n",
              "    <tr>\n",
              "      <th>2</th>\n",
              "      <td>2015-05-13 17:00:00+00:00</td>\n",
              "      <td>54688V625212</td>\n",
              "      <td>503.0</td>\n",
              "    </tr>\n",
              "    <tr>\n",
              "      <th>3</th>\n",
              "      <td>2015-05-13 18:00:00+00:00</td>\n",
              "      <td>54688V625212</td>\n",
              "      <td>466.0</td>\n",
              "    </tr>\n",
              "    <tr>\n",
              "      <th>4</th>\n",
              "      <td>2015-05-13 19:00:00+00:00</td>\n",
              "      <td>54688V625212</td>\n",
              "      <td>328.0</td>\n",
              "    </tr>\n",
              "    <tr>\n",
              "      <th>...</th>\n",
              "      <td>...</td>\n",
              "      <td>...</td>\n",
              "      <td>...</td>\n",
              "    </tr>\n",
              "    <tr>\n",
              "      <th>48674</th>\n",
              "      <td>2020-12-31 18:00:00+00:00</td>\n",
              "      <td>54688V625212</td>\n",
              "      <td>5.0</td>\n",
              "    </tr>\n",
              "    <tr>\n",
              "      <th>48675</th>\n",
              "      <td>2020-12-31 19:00:00+00:00</td>\n",
              "      <td>54688V625212</td>\n",
              "      <td>5.0</td>\n",
              "    </tr>\n",
              "    <tr>\n",
              "      <th>48676</th>\n",
              "      <td>2020-12-31 20:00:00+00:00</td>\n",
              "      <td>54688V625212</td>\n",
              "      <td>3.0</td>\n",
              "    </tr>\n",
              "    <tr>\n",
              "      <th>48677</th>\n",
              "      <td>2020-12-31 21:00:00+00:00</td>\n",
              "      <td>54688V625212</td>\n",
              "      <td>3.0</td>\n",
              "    </tr>\n",
              "    <tr>\n",
              "      <th>48678</th>\n",
              "      <td>2020-12-31 22:00:00+00:00</td>\n",
              "      <td>54688V625212</td>\n",
              "      <td>4.0</td>\n",
              "    </tr>\n",
              "  </tbody>\n",
              "</table>\n",
              "<p>48679 rows × 3 columns</p>\n",
              "</div>"
            ],
            "text/plain": [
              "                            time    trafikk_id  total.volumeNumbers.volume\n",
              "0      2015-05-13 15:00:00+00:00  54688V625212                       526.0\n",
              "1      2015-05-13 16:00:00+00:00  54688V625212                       434.0\n",
              "2      2015-05-13 17:00:00+00:00  54688V625212                       503.0\n",
              "3      2015-05-13 18:00:00+00:00  54688V625212                       466.0\n",
              "4      2015-05-13 19:00:00+00:00  54688V625212                       328.0\n",
              "...                          ...           ...                         ...\n",
              "48674  2020-12-31 18:00:00+00:00  54688V625212                         5.0\n",
              "48675  2020-12-31 19:00:00+00:00  54688V625212                         5.0\n",
              "48676  2020-12-31 20:00:00+00:00  54688V625212                         3.0\n",
              "48677  2020-12-31 21:00:00+00:00  54688V625212                         3.0\n",
              "48678  2020-12-31 22:00:00+00:00  54688V625212                         4.0\n",
              "\n",
              "[48679 rows x 3 columns]"
            ]
          },
          "metadata": {},
          "execution_count": 9
        }
      ]
    },
    {
      "cell_type": "markdown",
      "metadata": {
        "id": "_Oa-tGwi3Gkn"
      },
      "source": [
        "The expression `pd.read_csv(...)` is a function call that asks Python to run the function `read_csv` which belongs to the `pandas` library. This dotted notation is used everywhere in Python: the thing that appears before the dot contains the thing that appears after.\n",
        "\n",
        "As an example, John Smith is the John that belongs to the Smith family. We could use the dot notation to write his name smith.john, just as `read_csv` is a function that belongs to the `pandas` library.\n",
        "\n",
        "`pandas.read_csv` has at least one parameter: the name of the file we want to read. It also has optional parameters that can be found in the documentation (https://pandas.pydata.org/docs/reference/api/pandas.read_csv.html): `sep` for example specifies the delimiter that separates values on a line. If we don't add this parameter, Python will automatically use the default value for an optional parameter, in this case `sep=','`.\n",
        "\n",
        "Since we haven’t told Python to do anything else with the function’s output, the notebook displays it. In this case, that output is the data we just loaded. By default, only a few rows are shown (with ... to omit elements when displaying big arrays).\n",
        "\n",
        "Our call to `pd.read_csv` read our file but didn’t save the data in memory. To do that, we need to assign the array to a variable. In a similar manner to how we assign a single value to a variable, we can also assign an array of values to a variable using the same syntax. Let’s re-run `pd.read_csv` and save the returned data:"
      ]
    },
    {
      "cell_type": "code",
      "metadata": {
        "id": "kgpiL4ZO3AfR"
      },
      "source": [
        "data = pd.read_csv('trafikkdata_hourly_54688V625212.csv')"
      ],
      "execution_count": null,
      "outputs": []
    },
    {
      "cell_type": "markdown",
      "metadata": {
        "id": "kKdqvxbq4Znn"
      },
      "source": [
        "This statement doesn’t produce any output because we’ve assigned the output to the variable data.If we want to check that the data have been loaded, we can print the variable’s value:"
      ]
    },
    {
      "cell_type": "code",
      "metadata": {
        "colab": {
          "base_uri": "https://localhost:8080/"
        },
        "id": "2O_da4XU4UBZ",
        "outputId": "7eb6ad08-6416-4422-e7a3-f6f32e30d62d"
      },
      "source": [
        "print(data)"
      ],
      "execution_count": null,
      "outputs": [
        {
          "output_type": "stream",
          "name": "stdout",
          "text": [
            "                            time    trafikk_id  total.volumeNumbers.volume\n",
            "0      2015-05-13 15:00:00+00:00  54688V625212                       526.0\n",
            "1      2015-05-13 16:00:00+00:00  54688V625212                       434.0\n",
            "2      2015-05-13 17:00:00+00:00  54688V625212                       503.0\n",
            "3      2015-05-13 18:00:00+00:00  54688V625212                       466.0\n",
            "4      2015-05-13 19:00:00+00:00  54688V625212                       328.0\n",
            "...                          ...           ...                         ...\n",
            "48674  2020-12-31 18:00:00+00:00  54688V625212                         5.0\n",
            "48675  2020-12-31 19:00:00+00:00  54688V625212                         5.0\n",
            "48676  2020-12-31 20:00:00+00:00  54688V625212                         3.0\n",
            "48677  2020-12-31 21:00:00+00:00  54688V625212                         3.0\n",
            "48678  2020-12-31 22:00:00+00:00  54688V625212                         4.0\n",
            "\n",
            "[48679 rows x 3 columns]\n"
          ]
        }
      ]
    },
    {
      "cell_type": "markdown",
      "metadata": {
        "id": "INzo4n0F4xKv"
      },
      "source": [
        "Now that the data are in memory, we can manipulate them. First, let’s ask what type of thing `data` refers to:"
      ]
    },
    {
      "cell_type": "code",
      "metadata": {
        "colab": {
          "base_uri": "https://localhost:8080/"
        },
        "id": "1Y_TjCKV4jCh",
        "outputId": "c2199c30-91ab-4b18-808e-0a2cb36d577b"
      },
      "source": [
        "print(type(data))"
      ],
      "execution_count": null,
      "outputs": [
        {
          "output_type": "stream",
          "name": "stdout",
          "text": [
            "<class 'pandas.core.frame.DataFrame'>\n"
          ]
        }
      ]
    },
    {
      "cell_type": "markdown",
      "metadata": {
        "id": "wZbj96VI47uv"
      },
      "source": [
        "The output tells us that `data` currently refers to a data frame, the functionality for which is provided by the Pandas library. These data correspond to traffic volume that drove past some traffic measuring equipment on the E6 where the rows represent time points.\n",
        "\n",
        "A Pandas data frame contains one or more elements of the same or different types. The `type` function will only tell you that a variable is a Pandas data frame but won’t tell you the type of thing inside the array. We can find out the type of the data contained in the Pandas data frame:"
      ]
    },
    {
      "cell_type": "code",
      "metadata": {
        "colab": {
          "base_uri": "https://localhost:8080/"
        },
        "id": "0ZDNPdXR42pS",
        "outputId": "df28a5b8-6865-42f0-81df-9c3649a65b44"
      },
      "source": [
        "data.dtypes"
      ],
      "execution_count": null,
      "outputs": [
        {
          "output_type": "execute_result",
          "data": {
            "text/plain": [
              "time                           object\n",
              "trafikk_id                     object\n",
              "total.volumeNumbers.volume    float64\n",
              "dtype: object"
            ]
          },
          "metadata": {},
          "execution_count": 18
        }
      ]
    },
    {
      "cell_type": "markdown",
      "metadata": {
        "id": "ozpOa9mz7z-h"
      },
      "source": [
        "This tells us that the Pandas data frame’s elements are objects and floating-point numbers. Note that the values in `time` and `trafikk_id` are actually strings, but Pandas can't distinguish them, so they labelled as `object`, which is a more general synonym for a \"thing\".\n",
        "\n",
        "With the following command, we can see the data frame's shape:"
      ]
    },
    {
      "cell_type": "code",
      "metadata": {
        "colab": {
          "base_uri": "https://localhost:8080/"
        },
        "id": "RYRVwtaE5tm5",
        "outputId": "023d2a66-87fc-489f-e1dd-f75e5719996e"
      },
      "source": [
        "print(data.shape)"
      ],
      "execution_count": null,
      "outputs": [
        {
          "output_type": "stream",
          "name": "stdout",
          "text": [
            "(48679, 3)\n"
          ]
        }
      ]
    },
    {
      "cell_type": "markdown",
      "metadata": {
        "id": "yRFGhr1u8hTx"
      },
      "source": [
        "The output tells us that the data frame variable contains 48679 rows and 3 columns. When we created the variable `data` to store our traffic data, we did not only create the data frame; we also created information about the data frame, called members or attributes. This extra information describes data in the same way an adjective describes a noun. `data.shape` is an attribute of `data` which describes the dimensions of `data`. We use the same dotted notation for the attributes of variables that we use for the functions in libraries because they have the same part-and-whole relationship.\n",
        "\n",
        "If we want to get a single row from the data frame, we use a member of the Pandas data frame `iloc` together with an index in square brackets after the member name. The index notation is similar to  math when referring to an element of a vector."
      ]
    },
    {
      "cell_type": "code",
      "metadata": {
        "colab": {
          "base_uri": "https://localhost:8080/"
        },
        "id": "RgEx3TP48VDI",
        "outputId": "248cde7f-f213-4fe3-f8fc-17f0b77a642e"
      },
      "source": [
        "print(data.iloc[0])"
      ],
      "execution_count": null,
      "outputs": [
        {
          "output_type": "stream",
          "name": "stdout",
          "text": [
            "time                          2015-05-13 15:00:00+00:00\n",
            "trafikk_id                                 54688V625212\n",
            "total.volumeNumbers.volume                          526\n",
            "Name: 0, dtype: object\n"
          ]
        }
      ]
    },
    {
      "cell_type": "markdown",
      "metadata": {
        "id": "u91PeVF5AAZV"
      },
      "source": [
        ""
      ]
    },
    {
      "cell_type": "code",
      "metadata": {
        "colab": {
          "base_uri": "https://localhost:8080/"
        },
        "id": "3Pu0lOK2_0VU",
        "outputId": "1b7c8e5d-0b27-4a4f-a1c4-700d35367252"
      },
      "source": [
        "print(type(data.iloc[0]))"
      ],
      "execution_count": null,
      "outputs": [
        {
          "output_type": "stream",
          "name": "stdout",
          "text": [
            "<class 'pandas.core.series.Series'>\n"
          ]
        }
      ]
    },
    {
      "cell_type": "markdown",
      "metadata": {
        "id": "BXoxaBYK9zSa"
      },
      "source": [
        "A single element from a row can be accessed by using the "
      ]
    },
    {
      "cell_type": "code",
      "metadata": {
        "colab": {
          "base_uri": "https://localhost:8080/"
        },
        "id": "-ZmCiRfa87J5",
        "outputId": "0058362d-c3be-4f2e-e57c-559fb23fbe7e"
      },
      "source": [
        "data.iloc[0][0]"
      ],
      "execution_count": null,
      "outputs": [
        {
          "output_type": "stream",
          "name": "stdout",
          "text": [
            "first row in data: 2015-05-13 15:00:00+00:00\n"
          ]
        }
      ]
    },
    {
      "cell_type": "code",
      "metadata": {
        "id": "rk6ThSca-eyw"
      },
      "source": [
        ""
      ],
      "execution_count": null,
      "outputs": []
    }
  ]
}