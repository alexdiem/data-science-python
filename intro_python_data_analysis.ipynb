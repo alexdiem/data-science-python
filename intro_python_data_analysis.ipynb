{
 "cells": [
  {
   "cell_type": "markdown",
   "metadata": {
    "id": "0f6riz7z3Oat"
   },
   "source": [
    "# Introduction to data analysis in Python\n",
    "\n",
    "Based on Software Carpentry's \"Programming with Python\" https://software-carpentry.org/lessons/ and Data Carpentry's \"Data Analysis and Visualization in Python for Ecologists\" https://datacarpentry.org/lessons/\n",
    "\n",
    "Recommended setup: Anaconda / miniconda on Linux or Mac (Windows Subsystem for Linux if on Windows).\n"
   ]
  },
  {
   "cell_type": "markdown",
   "metadata": {
    "id": "48prCPly3dGb"
   },
   "source": [
    "## Datatypes, variables methods:\n",
    "\n",
    "### Questions\n",
    "* How do I program in Python?\n",
    "\n",
    "* How can I represent my data in Python?\n",
    "\n",
    "### Objectives\n",
    "\n",
    "* Define the following data types in Python: strings, integers, and floats.\n",
    "\n",
    "* Perform mathematical operations in Python using basic operators.\n",
    "\n",
    "* Define the following as it relates to Python: lists, tuples, and dictionaries."
   ]
  },
  {
   "cell_type": "markdown",
   "metadata": {
    "id": "k9fyN8Kj34dx"
   },
   "source": [
    "### Variables\n",
    "\n",
    "Any Python interpreter can be used as a calculator:\n",
    "\n",
    "\n"
   ]
  },
  {
   "cell_type": "code",
   "execution_count": 1,
   "metadata": {
    "colab": {
     "base_uri": "https://localhost:8080/"
    },
    "id": "yy6bN4pw2_n2",
    "outputId": "2ba12072-5361-4a05-f9f6-34a231309c50"
   },
   "outputs": [
    {
     "data": {
      "text/plain": [
       "4"
      ]
     },
     "execution_count": 1,
     "metadata": {},
     "output_type": "execute_result"
    }
   ],
   "source": [
    "2 + 2"
   ]
  },
  {
   "cell_type": "code",
   "execution_count": 3,
   "metadata": {
    "colab": {
     "base_uri": "https://localhost:8080/"
    },
    "id": "lycnDwnb-XmX",
    "outputId": "7e6537d6-a40f-464a-de71-bfe20689d01b"
   },
   "outputs": [
    {
     "data": {
      "text/plain": [
       "48"
      ]
     },
     "execution_count": 3,
     "metadata": {},
     "output_type": "execute_result"
    }
   ],
   "source": [
    "6 * 8"
   ]
  },
  {
   "cell_type": "markdown",
   "metadata": {
    "id": "sC_j7iMb-GZq"
   },
   "source": [
    "This is great but not very interesting. To do anything useful with data, we need to assign its value to a variable. In Python, we can assign a value to a variable, using the equals sign `=`. For example, we can track the weight of a patient who weighs 60 kilograms by assigning the value 60 to a variable `weight_kg`:"
   ]
  },
  {
   "cell_type": "code",
   "execution_count": 2,
   "metadata": {
    "id": "B3dkHolZBkgx"
   },
   "outputs": [],
   "source": [
    "weight_kg = 60"
   ]
  },
  {
   "cell_type": "markdown",
   "metadata": {
    "id": "1fV4CkNN4BAv"
   },
   "source": [
    "From now on, whenever we use `weight_kg`, Python will substitute the value we assigned to it. In layman’s terms, a variable is a name for a value.\n",
    "\n",
    "In Python, variable names:\n",
    "\n",
    "* can include letters, digits, and underscores\n",
    "* cannot start with a digit\n",
    "* are case sensitive.\n",
    "\n",
    "This means that, for example:\n",
    "\n",
    "* `weight0` is a valid variable name, whereas `0weight` is not\n",
    "* `weight` and `Weight` are different variables"
   ]
  },
  {
   "cell_type": "markdown",
   "metadata": {
    "id": "Fk3F1gB-5V5h"
   },
   "source": [
    "### Built-in Python functions\n",
    "\n",
    "To carry out common tasks with data and variables in Python, the language provides us with several built-in functions. To display information to the screen, we use the print function:"
   ]
  },
  {
   "cell_type": "code",
   "execution_count": null,
   "metadata": {
    "colab": {
     "base_uri": "https://localhost:8080/"
    },
    "id": "6MNSjSX85S9F",
    "outputId": "58abc412-8097-4bc8-d33c-27917bcd45ae"
   },
   "outputs": [
    {
     "name": "stdout",
     "output_type": "stream",
     "text": [
      "132.66\n",
      "inflam_001\n"
     ]
    }
   ],
   "source": [
    "print(weight_lb)"
   ]
  },
  {
   "cell_type": "markdown",
   "metadata": {
    "id": "7F4I7oP45d6s"
   },
   "source": [
    "When we want to make use of a function, referred to as calling the function, we follow its name by parentheses. The parentheses are important: if you leave them off, the function doesn’t actually run! Sometimes you will include values or variables inside the parentheses for the function to use. In the case of print, we use the parentheses to tell the function what value we want to display. We will learn more about how functions work and how to create our own in later episodes.\n",
    "\n",
    "We can display multiple things at once using only one `print` call:"
   ]
  },
  {
   "cell_type": "code",
   "execution_count": 9,
   "metadata": {
    "colab": {
     "base_uri": "https://localhost:8080/"
    },
    "id": "WbOCgUYx5bUN",
    "outputId": "9ba8003a-f1dd-4a6c-c20b-6d99bd4f926e"
   },
   "outputs": [
    {
     "name": "stdout",
     "output_type": "stream",
     "text": [
      "Weight in kilograms: 60.3\n"
     ]
    }
   ],
   "source": [
    "print('Weight in kilograms:', weight_kg)"
   ]
  },
  {
   "cell_type": "markdown",
   "metadata": {
    "id": "1_asX1ch5tgO"
   },
   "source": [
    "Moreover, we can do arithmetic with variables right inside the print function:"
   ]
  },
  {
   "cell_type": "code",
   "execution_count": null,
   "metadata": {
    "colab": {
     "base_uri": "https://localhost:8080/"
    },
    "id": "jdyYyGHZ5rVe",
    "outputId": "06753496-b6fa-4b08-9d83-835b1b03de86"
   },
   "outputs": [
    {
     "name": "stdout",
     "output_type": "stream",
     "text": [
      "weight in pounds: 132.66\n"
     ]
    }
   ],
   "source": [
    "print('weight in pounds:', 2.2 * weight_kg)"
   ]
  },
  {
   "cell_type": "markdown",
   "metadata": {
    "id": "ljW2gsmv5zlA"
   },
   "source": [
    "The above command, however, did not change the value of weight_kg:"
   ]
  },
  {
   "cell_type": "code",
   "execution_count": null,
   "metadata": {
    "colab": {
     "base_uri": "https://localhost:8080/"
    },
    "id": "LVsvDPQc5wXc",
    "outputId": "ca78fe67-e8ee-4391-a851-8267d4fab8de"
   },
   "outputs": [
    {
     "name": "stdout",
     "output_type": "stream",
     "text": [
      "60.3\n"
     ]
    }
   ],
   "source": [
    "print(weight_kg)"
   ]
  },
  {
   "cell_type": "markdown",
   "metadata": {
    "id": "6qR0v1U856Fj"
   },
   "source": [
    "To change the value of the `weight_kg` variable, we have to assign `weight_kg` a new value using the equals = sign:"
   ]
  },
  {
   "cell_type": "code",
   "execution_count": null,
   "metadata": {
    "colab": {
     "base_uri": "https://localhost:8080/"
    },
    "id": "4GldIyNQ51IR",
    "outputId": "f6929713-8b86-42b6-ff15-a4262c4888dc"
   },
   "outputs": [
    {
     "name": "stdout",
     "output_type": "stream",
     "text": [
      "weight in kilograms is now: 65.0\n"
     ]
    }
   ],
   "source": [
    "weight_kg = 65.0\n",
    "print('weight in kilograms is now:', weight_kg)"
   ]
  },
  {
   "cell_type": "markdown",
   "metadata": {
    "id": "tjhNiNw_4MeF"
   },
   "source": [
    "### Built-in data types\n",
    "\n",
    "**Strings, integers, and floats**\n",
    "\n",
    "Python knows various types of data. Three common ones are:\n",
    "\n",
    "* integer numbers\n",
    "* floating point numbers, and\n",
    "* strings.\n",
    "\n",
    "In the example above, variable `weight_kg` has an integer value of 60. If we want to more precisely track the weight of our patient, we can use a floating point value by executing:"
   ]
  },
  {
   "cell_type": "code",
   "execution_count": 5,
   "metadata": {
    "id": "OLFuuF7WCGlC"
   },
   "outputs": [],
   "source": [
    "weight_kg = 60.3"
   ]
  },
  {
   "cell_type": "markdown",
   "metadata": {
    "id": "TRWuaAwd-qdD"
   },
   "source": [
    "To create a string, we add single or double quotes around some text. To identify and track a patient throughout our study, we can assign each person a unique identifier by storing it in a string:"
   ]
  },
  {
   "cell_type": "code",
   "execution_count": 6,
   "metadata": {
    "id": "mfYkIGX6-ug7"
   },
   "outputs": [],
   "source": [
    "patient_id = '001'"
   ]
  },
  {
   "cell_type": "markdown",
   "metadata": {
    "id": "DxjV3VPz5nqa"
   },
   "source": [
    "We can also call a function to check the type of a variable:"
   ]
  },
  {
   "cell_type": "code",
   "execution_count": 10,
   "metadata": {
    "colab": {
     "base_uri": "https://localhost:8080/"
    },
    "id": "IHicqTCD5kGp",
    "outputId": "643eadfc-2334-4ed5-8097-cdd2faf770a7"
   },
   "outputs": [
    {
     "data": {
      "text/plain": [
       "float"
      ]
     },
     "execution_count": 10,
     "metadata": {},
     "output_type": "execute_result"
    }
   ],
   "source": [
    "type(weight_kg)"
   ]
  },
  {
   "cell_type": "code",
   "execution_count": 11,
   "metadata": {
    "colab": {
     "base_uri": "https://localhost:8080/"
    },
    "id": "SBqWAagVEVmH",
    "outputId": "b4213f63-bd71-4b8f-9c54-347afba0c8a9"
   },
   "outputs": [
    {
     "data": {
      "text/plain": [
       "str"
      ]
     },
     "execution_count": 11,
     "metadata": {},
     "output_type": "execute_result"
    }
   ],
   "source": [
    "type(patient_id)"
   ]
  },
  {
   "cell_type": "markdown",
   "metadata": {
    "id": "zw-OUK_kCriZ"
   },
   "source": [
    "**Sequences: Lists and Tuples**\n",
    "\n",
    "Lists are a common data structure to hold an ordered sequence of elements. Each element can be accessed by an index. Note that Python indexes start with 0 instead of 1:\n"
   ]
  },
  {
   "cell_type": "code",
   "execution_count": 7,
   "metadata": {
    "colab": {
     "base_uri": "https://localhost:8080/"
    },
    "id": "HMGx4QdYC15_",
    "outputId": "82f590ee-3dc7-4943-c6af-7e8c8a9ad262"
   },
   "outputs": [
    {
     "data": {
      "text/plain": [
       "1"
      ]
     },
     "execution_count": 7,
     "metadata": {},
     "output_type": "execute_result"
    }
   ],
   "source": [
    "numbers = [1, 2, 3]\n",
    "numbers[0]"
   ]
  },
  {
   "cell_type": "markdown",
   "metadata": {
    "id": "X_js4XIsC6Zx"
   },
   "source": [
    "A `for` loop can be used to access the elements in a list or other Python data structure one at a time:"
   ]
  },
  {
   "cell_type": "code",
   "execution_count": 8,
   "metadata": {
    "colab": {
     "base_uri": "https://localhost:8080/"
    },
    "id": "-R1nnASPC9Ji",
    "outputId": "950c6916-124f-469d-dc67-ddf79cd3bdb1"
   },
   "outputs": [
    {
     "name": "stdout",
     "output_type": "stream",
     "text": [
      "1\n",
      "2\n",
      "3\n"
     ]
    }
   ],
   "source": [
    "for num in numbers:\n",
    "    print(num)"
   ]
  },
  {
   "cell_type": "markdown",
   "metadata": {
    "id": "LFk0ozowDAFz"
   },
   "source": [
    "**Indentation** is very important in Python. Note that the second line in the example above is indented.\n",
    "\n",
    "To add elements to the end of a list, we can use the `append` method. Methods are a way to interact with an object (a list, for example). We can invoke a method using the dot . followed by the method name and a list of arguments in parentheses. Let’s look at an example using `append`:"
   ]
  },
  {
   "cell_type": "code",
   "execution_count": 12,
   "metadata": {
    "colab": {
     "base_uri": "https://localhost:8080/"
    },
    "id": "NQO8yyQ-EhnH",
    "outputId": "22390346-a74b-4df8-fc2e-87fbe8b51258"
   },
   "outputs": [
    {
     "name": "stdout",
     "output_type": "stream",
     "text": [
      "[1, 2, 3, 4]\n"
     ]
    }
   ],
   "source": [
    "numbers.append(4)\n",
    "print(numbers)"
   ]
  },
  {
   "cell_type": "markdown",
   "metadata": {
    "id": "8MJZlJ0BEkH8"
   },
   "source": [
    "To find out what methods are available for an object, we can use the built-in `help` command:"
   ]
  },
  {
   "cell_type": "code",
   "execution_count": 13,
   "metadata": {
    "colab": {
     "base_uri": "https://localhost:8080/"
    },
    "id": "h_3z_H8hEl6-",
    "outputId": "ea87f205-16b1-4bbd-e035-27a181b2d3ec"
   },
   "outputs": [
    {
     "name": "stdout",
     "output_type": "stream",
     "text": [
      "Help on list object:\n",
      "\n",
      "class list(object)\n",
      " |  list(iterable=(), /)\n",
      " |  \n",
      " |  Built-in mutable sequence.\n",
      " |  \n",
      " |  If no argument is given, the constructor creates a new empty list.\n",
      " |  The argument must be an iterable if specified.\n",
      " |  \n",
      " |  Methods defined here:\n",
      " |  \n",
      " |  __add__(self, value, /)\n",
      " |      Return self+value.\n",
      " |  \n",
      " |  __contains__(self, key, /)\n",
      " |      Return key in self.\n",
      " |  \n",
      " |  __delitem__(self, key, /)\n",
      " |      Delete self[key].\n",
      " |  \n",
      " |  __eq__(self, value, /)\n",
      " |      Return self==value.\n",
      " |  \n",
      " |  __ge__(self, value, /)\n",
      " |      Return self>=value.\n",
      " |  \n",
      " |  __getattribute__(self, name, /)\n",
      " |      Return getattr(self, name).\n",
      " |  \n",
      " |  __getitem__(...)\n",
      " |      x.__getitem__(y) <==> x[y]\n",
      " |  \n",
      " |  __gt__(self, value, /)\n",
      " |      Return self>value.\n",
      " |  \n",
      " |  __iadd__(self, value, /)\n",
      " |      Implement self+=value.\n",
      " |  \n",
      " |  __imul__(self, value, /)\n",
      " |      Implement self*=value.\n",
      " |  \n",
      " |  __init__(self, /, *args, **kwargs)\n",
      " |      Initialize self.  See help(type(self)) for accurate signature.\n",
      " |  \n",
      " |  __iter__(self, /)\n",
      " |      Implement iter(self).\n",
      " |  \n",
      " |  __le__(self, value, /)\n",
      " |      Return self<=value.\n",
      " |  \n",
      " |  __len__(self, /)\n",
      " |      Return len(self).\n",
      " |  \n",
      " |  __lt__(self, value, /)\n",
      " |      Return self<value.\n",
      " |  \n",
      " |  __mul__(self, value, /)\n",
      " |      Return self*value.\n",
      " |  \n",
      " |  __ne__(self, value, /)\n",
      " |      Return self!=value.\n",
      " |  \n",
      " |  __repr__(self, /)\n",
      " |      Return repr(self).\n",
      " |  \n",
      " |  __reversed__(self, /)\n",
      " |      Return a reverse iterator over the list.\n",
      " |  \n",
      " |  __rmul__(self, value, /)\n",
      " |      Return value*self.\n",
      " |  \n",
      " |  __setitem__(self, key, value, /)\n",
      " |      Set self[key] to value.\n",
      " |  \n",
      " |  __sizeof__(self, /)\n",
      " |      Return the size of the list in memory, in bytes.\n",
      " |  \n",
      " |  append(self, object, /)\n",
      " |      Append object to the end of the list.\n",
      " |  \n",
      " |  clear(self, /)\n",
      " |      Remove all items from list.\n",
      " |  \n",
      " |  copy(self, /)\n",
      " |      Return a shallow copy of the list.\n",
      " |  \n",
      " |  count(self, value, /)\n",
      " |      Return number of occurrences of value.\n",
      " |  \n",
      " |  extend(self, iterable, /)\n",
      " |      Extend list by appending elements from the iterable.\n",
      " |  \n",
      " |  index(self, value, start=0, stop=9223372036854775807, /)\n",
      " |      Return first index of value.\n",
      " |      \n",
      " |      Raises ValueError if the value is not present.\n",
      " |  \n",
      " |  insert(self, index, object, /)\n",
      " |      Insert object before index.\n",
      " |  \n",
      " |  pop(self, index=-1, /)\n",
      " |      Remove and return item at index (default last).\n",
      " |      \n",
      " |      Raises IndexError if list is empty or index is out of range.\n",
      " |  \n",
      " |  remove(self, value, /)\n",
      " |      Remove first occurrence of value.\n",
      " |      \n",
      " |      Raises ValueError if the value is not present.\n",
      " |  \n",
      " |  reverse(self, /)\n",
      " |      Reverse *IN PLACE*.\n",
      " |  \n",
      " |  sort(self, /, *, key=None, reverse=False)\n",
      " |      Stable sort *IN PLACE*.\n",
      " |  \n",
      " |  ----------------------------------------------------------------------\n",
      " |  Static methods defined here:\n",
      " |  \n",
      " |  __new__(*args, **kwargs) from builtins.type\n",
      " |      Create and return a new object.  See help(type) for accurate signature.\n",
      " |  \n",
      " |  ----------------------------------------------------------------------\n",
      " |  Data and other attributes defined here:\n",
      " |  \n",
      " |  __hash__ = None\n",
      "\n"
     ]
    }
   ],
   "source": [
    "help(numbers)"
   ]
  },
  {
   "cell_type": "markdown",
   "metadata": {
    "id": "sWC65K_sEq0i"
   },
   "source": [
    "A **tuple** is similar to a list in that it’s an ordered sequence of elements. However, tuples can not be changed once created (they are “immutable”). Tuples are created by placing comma-separated values inside parentheses ()."
   ]
  },
  {
   "cell_type": "code",
   "execution_count": 14,
   "metadata": {
    "id": "i1f6m04tEtiC"
   },
   "outputs": [],
   "source": [
    "# Tuples use parentheses\n",
    "a_tuple = (1, 2, 3)\n",
    "another_tuple = ('blue', 'green', 'red')\n",
    "\n",
    "# Note: lists use square brackets\n",
    "a_list = [1, 2, 3]"
   ]
  },
  {
   "cell_type": "markdown",
   "metadata": {
    "id": "VAtZtlc2E5c_"
   },
   "source": [
    "A **dictionary** is a container that holds pairs of objects - keys and values."
   ]
  },
  {
   "cell_type": "code",
   "execution_count": 15,
   "metadata": {
    "colab": {
     "base_uri": "https://localhost:8080/",
     "height": 35
    },
    "id": "cJvDuY9hE8W4",
    "outputId": "1f0b10f7-4adc-477f-913f-ec185c82f662"
   },
   "outputs": [
    {
     "data": {
      "application/vnd.google.colaboratory.intrinsic+json": {
       "type": "string"
      },
      "text/plain": [
       "'first'"
      ]
     },
     "execution_count": 15,
     "metadata": {},
     "output_type": "execute_result"
    }
   ],
   "source": [
    "translation = {'one': 'first', 'two': 'second'}\n",
    "translation['one']"
   ]
  },
  {
   "cell_type": "markdown",
   "metadata": {
    "id": "3Mx0nrTpE_WS"
   },
   "source": [
    "Dictionaries work a lot like lists - except that you index them with *keys*. You can think about a key as a name or unique identifier for the value it corresponds to."
   ]
  },
  {
   "cell_type": "code",
   "execution_count": 16,
   "metadata": {
    "colab": {
     "base_uri": "https://localhost:8080/",
     "height": 35
    },
    "id": "d9UVD2QBFGs2",
    "outputId": "889ff976-cfe6-44ae-90e3-8604d19b4279"
   },
   "outputs": [
    {
     "data": {
      "application/vnd.google.colaboratory.intrinsic+json": {
       "type": "string"
      },
      "text/plain": [
       "'one'"
      ]
     },
     "execution_count": 16,
     "metadata": {},
     "output_type": "execute_result"
    }
   ],
   "source": [
    "rev = {'first': 'one', 'second': 'two'}\n",
    "rev['first']"
   ]
  },
  {
   "cell_type": "markdown",
   "metadata": {
    "id": "fY6Eo95WFKCr"
   },
   "source": [
    "To add an item to the dictionary we assign a value to a new key:"
   ]
  },
  {
   "cell_type": "code",
   "execution_count": 17,
   "metadata": {
    "colab": {
     "base_uri": "https://localhost:8080/"
    },
    "id": "vVuS7PzMFMLA",
    "outputId": "ce90b98c-1dca-4dde-adc1-9af139d931a9"
   },
   "outputs": [
    {
     "data": {
      "text/plain": [
       "{'first': 'one', 'second': 'two', 'third': 'three'}"
      ]
     },
     "execution_count": 17,
     "metadata": {},
     "output_type": "execute_result"
    }
   ],
   "source": [
    "rev = {'first': 'one', 'second': 'two'}\n",
    "rev['third'] = 'three'\n",
    "rev"
   ]
  },
  {
   "cell_type": "markdown",
   "metadata": {
    "id": "Gg4PVYiDFQRb"
   },
   "source": [
    "Using `for` loops with dictionaries is a little more complicated. We can do this in two ways:"
   ]
  },
  {
   "cell_type": "code",
   "execution_count": 18,
   "metadata": {
    "colab": {
     "base_uri": "https://localhost:8080/"
    },
    "id": "FKEopYjFFTSl",
    "outputId": "ab80d293-62dd-4b1c-8011-afd0dbc00d95"
   },
   "outputs": [
    {
     "name": "stdout",
     "output_type": "stream",
     "text": [
      "first -> one\n",
      "second -> two\n",
      "third -> three\n"
     ]
    }
   ],
   "source": [
    "for key, value in rev.items():\n",
    "    print(key, '->', value)"
   ]
  },
  {
   "cell_type": "code",
   "execution_count": 19,
   "metadata": {
    "colab": {
     "base_uri": "https://localhost:8080/"
    },
    "id": "XEjRLSF7FWZ-",
    "outputId": "7c773cd6-536a-4277-aebf-c175aaf9b069"
   },
   "outputs": [
    {
     "name": "stdout",
     "output_type": "stream",
     "text": [
      "first -> one\n",
      "second -> two\n",
      "third -> three\n"
     ]
    }
   ],
   "source": [
    "for key in rev.keys():\n",
    "    print(key, '->', rev[key])"
   ]
  },
  {
   "cell_type": "markdown",
   "metadata": {
    "id": "7FMyrFhy5KCb"
   },
   "source": [
    "### Functions\n",
    "\n",
    "Defining a section of code as a **function** in Python is done using the `def` keyword. For example a function that takes two arguments and returns their sum can be defined as:"
   ]
  },
  {
   "cell_type": "code",
   "execution_count": 1,
   "metadata": {
    "colab": {
     "base_uri": "https://localhost:8080/"
    },
    "id": "0DDGrpBK49cV",
    "outputId": "0c287dd7-35e8-4fb6-fa48-c2b7ca21ad63"
   },
   "outputs": [
    {
     "name": "stdout",
     "output_type": "stream",
     "text": [
      "42\n"
     ]
    }
   ],
   "source": [
    "def add_function(a, b):\n",
    "    result = a + b\n",
    "    return result\n",
    "\n",
    "z = add_function(20, 22)\n",
    "print(z)"
   ]
  },
  {
   "cell_type": "markdown",
   "metadata": {
    "id": "zk85FmIS5RIe"
   },
   "source": [
    "### Conditionals\n",
    "\n",
    "We can ask Python to take different actions, depending on a condition, with an `if` statement:"
   ]
  },
  {
   "cell_type": "code",
   "execution_count": 2,
   "metadata": {
    "colab": {
     "base_uri": "https://localhost:8080/"
    },
    "id": "oiK58BJc5OqL",
    "outputId": "e62a954c-3ccf-4c67-a260-b8faaeb93fee"
   },
   "outputs": [
    {
     "name": "stdout",
     "output_type": "stream",
     "text": [
      "not greater\n",
      "done\n"
     ]
    }
   ],
   "source": [
    "num = 37\n",
    "if num > 100:\n",
    "    print('greater')\n",
    "else:\n",
    "    print('not greater')\n",
    "print('done')"
   ]
  },
  {
   "cell_type": "markdown",
   "metadata": {
    "id": "-PJ5JMYG6Sz5"
   },
   "source": [
    "The second line of this code uses the keyword `if` to tell Python that we want to make a choice. If the test that follows the `if` statement is true, the body of the `if` (i.e., the set of lines indented underneath it) is executed, and “greater” is printed. If the test is false, the body of the else is executed instead, and “not greater” is printed. Only one or the other is ever executed before continuing on with program execution to print “done”.\n",
    "\n",
    "Conditional statements don’t have to include an `else`. If there isn’t one, Python simply does nothing if the test is false:"
   ]
  },
  {
   "cell_type": "code",
   "execution_count": 3,
   "metadata": {
    "colab": {
     "base_uri": "https://localhost:8080/"
    },
    "id": "27gBdH-j6diE",
    "outputId": "00681979-21d4-43bc-90ef-963e1f635b6e"
   },
   "outputs": [
    {
     "name": "stdout",
     "output_type": "stream",
     "text": [
      "before conditional...\n",
      "...after conditional\n"
     ]
    }
   ],
   "source": [
    "num = 53\n",
    "print('before conditional...')\n",
    "if num > 100:\n",
    "    print(num, 'is greater than 100')\n",
    "print('...after conditional')"
   ]
  },
  {
   "cell_type": "markdown",
   "metadata": {
    "id": "SUkI6uOG6hsP"
   },
   "source": [
    "We can also chain several tests together using `elif`, which is short for “else if”. The following Python code uses `elif` to print the sign of a number."
   ]
  },
  {
   "cell_type": "code",
   "execution_count": 4,
   "metadata": {
    "colab": {
     "base_uri": "https://localhost:8080/"
    },
    "id": "ADIQcpjO6kzW",
    "outputId": "f09bf81b-388c-4a0c-d893-bdb2bd8bf9b0"
   },
   "outputs": [
    {
     "name": "stdout",
     "output_type": "stream",
     "text": [
      "-3 is negative\n"
     ]
    }
   ],
   "source": [
    "num = -3\n",
    "\n",
    "if num > 0:\n",
    "    print(num, 'is positive')\n",
    "elif num == 0:\n",
    "    print(num, 'is zero')\n",
    "else:\n",
    "    print(num, 'is negative')"
   ]
  },
  {
   "cell_type": "markdown",
   "metadata": {
    "id": "G7ATb9j36yd3"
   },
   "source": [
    "### Boolean statements\n",
    "\n",
    "Along with the > and == operators we have already used for comparing values in our conditionals, there are a few more options to know about:\n",
    "\n",
    "- `>`: greater than\n",
    "- `<`: less than\n",
    "- `==`: equal to\n",
    "- `!=`: does not equal\n",
    "- `>=`: greater than or equal to\n",
    "- `<=`: less than or equal to\n",
    "\n",
    "We can also combine tests using `and` and `or`. `and` is only true if both parts are true:"
   ]
  },
  {
   "cell_type": "code",
   "execution_count": 5,
   "metadata": {
    "colab": {
     "base_uri": "https://localhost:8080/"
    },
    "id": "careaIck60b4",
    "outputId": "7572380a-7ee7-4eb5-d93b-e699134aa640"
   },
   "outputs": [
    {
     "name": "stdout",
     "output_type": "stream",
     "text": [
      "at least one part is false\n"
     ]
    }
   ],
   "source": [
    "if (1 > 0) and (-1 >= 0):\n",
    "    print('both parts are true')\n",
    "else:\n",
    "    print('at least one part is false')"
   ]
  },
  {
   "cell_type": "markdown",
   "metadata": {
    "id": "oO49ewMX-RcZ"
   },
   "source": [
    "while `or` is true if at least one part is true:"
   ]
  },
  {
   "cell_type": "code",
   "execution_count": 6,
   "metadata": {
    "colab": {
     "base_uri": "https://localhost:8080/"
    },
    "id": "Ij9kni4M-UcX",
    "outputId": "d878c36b-00d3-4372-e419-85be4b67141d"
   },
   "outputs": [
    {
     "name": "stdout",
     "output_type": "stream",
     "text": [
      "at least one test is true\n"
     ]
    }
   ],
   "source": [
    "if (1 < 0) or (1 >= 0):\n",
    "    print('at least one test is true')"
   ]
  },
  {
   "cell_type": "markdown",
   "metadata": {
    "id": "wSApzur8AURL"
   },
   "source": [
    "Sometimes it is useful to check whether some condition is not true. The Boolean operator `not` can do this explicitly"
   ]
  },
  {
   "cell_type": "code",
   "execution_count": 11,
   "metadata": {
    "colab": {
     "base_uri": "https://localhost:8080/"
    },
    "id": "cYrJ-VW0AWcM",
    "outputId": "5b4c48e4-093a-48c7-de76-7c6b70dc0d3d"
   },
   "outputs": [
    {
     "name": "stdout",
     "output_type": "stream",
     "text": [
      "1 is not smaller than 0\n"
     ]
    }
   ],
   "source": [
    "if not (1 < 0):\n",
    "    print('1 is not smaller than 0')"
   ]
  },
  {
   "cell_type": "markdown",
   "metadata": {
    "id": "kw3rydEKvryV"
   },
   "source": [
    "### Importing libraries\n",
    "\n",
    "Importing a library is like getting a piece of lab equipment out of a storage locker and setting it up on the bench. Libraries provide additional functionality to the basic Python package, much like a new piece of equipment adds functionality to a lab space. Just like in the lab, importing too many libraries can sometimes complicate and slow down your programs - so we only import what we need for each program.\n",
    "\n",
    "Once we’ve imported the library, we can ask the library to perform functions that are not built-in:"
   ]
  },
  {
   "cell_type": "code",
   "execution_count": null,
   "metadata": {
    "colab": {
     "base_uri": "https://localhost:8080/"
    },
    "id": "RuIt2ZSJwFow",
    "outputId": "61848cfe-ca46-4796-ed07-48240be7a41c"
   },
   "outputs": [
    {
     "name": "stdout",
     "output_type": "stream",
     "text": [
      "61.0\n"
     ]
    }
   ],
   "source": [
    "import numpy\n",
    "weight_kg = 60.6\n",
    "print(numpy.round(weight_kg))\n"
   ]
  },
  {
   "cell_type": "markdown",
   "metadata": {
    "id": "CJvHibtvxLAk"
   },
   "source": [
    "It is common to rename libraries to appreviated names:"
   ]
  },
  {
   "cell_type": "code",
   "execution_count": null,
   "metadata": {
    "colab": {
     "base_uri": "https://localhost:8080/"
    },
    "id": "U5BpOQSSxgUM",
    "outputId": "bf30558e-c266-40f4-9f89-f438f1dbc95e"
   },
   "outputs": [
    {
     "name": "stdout",
     "output_type": "stream",
     "text": [
      "61.0\n"
     ]
    }
   ],
   "source": [
    "import numpy as np\n",
    "print(np.round(weight_kg))"
   ]
  },
  {
   "cell_type": "markdown",
   "metadata": {
    "id": "btPw4mz06tUN"
   },
   "source": [
    "### Exercises\n",
    "\n",
    "What values do the variables mass and age have after each of the following statements? Test your answer by executing the lines."
   ]
  },
  {
   "cell_type": "code",
   "execution_count": null,
   "metadata": {
    "id": "cfQGG9HJ6g5W"
   },
   "outputs": [],
   "source": [
    "mass = 47.5\n",
    "age = 122\n",
    "mass = mass * 2.0\n",
    "age = age - 20"
   ]
  },
  {
   "cell_type": "markdown",
   "metadata": {
    "id": "s9aFW19967B0"
   },
   "source": [
    "Python allows you to assign multiple values to multiple variables in one line by separating the variables and values with commas. What does the following program print out?"
   ]
  },
  {
   "cell_type": "code",
   "execution_count": null,
   "metadata": {
    "id": "hUoa9Rhi69Bt"
   },
   "outputs": [],
   "source": [
    "first, second = 'Grace', 'Hopper'\n",
    "third, fourth = second, first\n",
    "print(third, fourth)"
   ]
  },
  {
   "cell_type": "markdown",
   "metadata": {
    "id": "XSfYWJQj6_zR"
   },
   "source": [
    "What are the data types of the following variables?"
   ]
  },
  {
   "cell_type": "code",
   "execution_count": null,
   "metadata": {
    "id": "EQX91tlR7B7N"
   },
   "outputs": [],
   "source": [
    "planet = 'Earth'\n",
    "apples = 5\n",
    "distance = 10.5"
   ]
  },
  {
   "cell_type": "code",
   "execution_count": 8,
   "metadata": {
    "id": "h7jMP-Ru-h73"
   },
   "outputs": [],
   "source": [
    "a_list = [1, 2, 3]\n",
    "a_tuple = (1, 2, 3)"
   ]
  },
  {
   "cell_type": "markdown",
   "metadata": {
    "id": "A4pj3oAZ-j0p"
   },
   "source": [
    "Change the value of the second element in both the list and tuple to 5:"
   ]
  },
  {
   "cell_type": "code",
   "execution_count": null,
   "metadata": {
    "id": "VhBOSIVF-v1G"
   },
   "outputs": [],
   "source": []
  },
  {
   "cell_type": "markdown",
   "metadata": {
    "id": "jzdHagQo-xSX"
   },
   "source": [
    "Write a function `square` that takes a `list` or `tuple` as its argument and returns a respective `list` or `tuple` containing the squares of the values in the original list."
   ]
  },
  {
   "cell_type": "code",
   "execution_count": null,
   "metadata": {
    "id": "QzpBLnTd_7c1"
   },
   "outputs": [],
   "source": []
  },
  {
   "cell_type": "markdown",
   "metadata": {
    "id": "_KKtxE7tAmlT"
   },
   "source": [
    "Write a function `is_number` that takes an argument and returns whether the argument is a number."
   ]
  },
  {
   "cell_type": "code",
   "execution_count": null,
   "metadata": {
    "id": "I71x2I47BNTQ"
   },
   "outputs": [],
   "source": []
  },
  {
   "cell_type": "markdown",
   "metadata": {
    "id": "P5weZKUk7DuZ"
   },
   "source": [
    "### Key points\n",
    "\n",
    "* Basic data types in Python include integers, strings, and floating-point numbers.\n",
    "\n",
    "* Use `variable = value` to assign a value to a variable in order to record it in memory.\n",
    "\n",
    "* Variables are created on demand whenever a value is assigned to them.\n",
    "\n",
    "* Built-in functions are always available to use.\n",
    "\n",
    "* Lists and tuples are similar in that they are ordered lists of elements; they differ in that a tuple is immutable (cannot be changed).\n",
    "\n",
    "* Dictionaries are data structures that provide mappings between keys and values.\n",
    "\n",
    "* Use for variable in sequence to process the elements of a sequence one at a time.\n",
    "\n",
    "* Use if condition to start a conditional statement, elif condition to provide additional tests, and else to provide a default.\n",
    "\n"
   ]
  },
  {
   "cell_type": "markdown",
   "metadata": {
    "id": "uNptubDb77Fr"
   },
   "source": [
    "## Data analysis using Pandas\n",
    "\n",
    "### Questions\n",
    "\n",
    "- How can I import data in Python?\n",
    "- What is Pandas?\n",
    "- Why should I use Pandas to work with data?\n",
    "\n",
    "### Objectives\n",
    "\n",
    "- Navigate the workshop directory and download a dataset.\n",
    "- Explain what a library is and what libraries are used for.\n",
    "- Describe what the Python Data Analysis Library (Pandas) is.\n",
    "- Load the Python Data Analysis Library (Pandas).\n",
    "- Use read_csv to read tabular data into Python.\n",
    "- Describe what a DataFrame is in Python.\n",
    "- Access and summarize data stored in a DataFrame.\n",
    "- Define indexing as it relates to data structures.\n",
    "- Perform basic mathematical operations and summary statistics on data in a Pandas DataFrame.\n",
    "- Create simple plots."
   ]
  },
  {
   "cell_type": "markdown",
   "metadata": {
    "id": "Pb5e4BAXyNlQ"
   },
   "source": [
    "### Working With Pandas DataFrames in Python\n",
    "\n",
    "We can automate the process of performing data manipulations in Python. It’s efficient to spend time building the code to perform these tasks because once it’s built, we can use it over and over on different datasets that use a similar format. This makes our methods easily reproducible. We can also easily share our code with colleagues and they can replicate the same analysis.\n",
    "\n",
    "### Our Data\n",
    "\n",
    "For this lesson, we will be real data from traffic registration points in Norway.\n",
    "\n",
    "We are studying (...). The dataset is stored as a .csv file: each row holds information for a single traffic event."
   ]
  },
  {
   "cell_type": "markdown",
   "metadata": {
    "id": "TFVk8oroGWxv"
   },
   "source": [
    "The first few rows of our first file look like this:\n",
    "\n",
    "```\n",
    "_id;_index;_score;_type;county_id;created_at_timestamp;datalogger_type;event_emitted_timestamp;event_number;event_timestamp;firmware_version;klokketime;lane;length;qspeed;region_id;speed;time_gap;traffic_registration_point_id;valid_classification;valid_event;valid_length;valid_speed;vehicle_type;vehicle_type_quality;vehicle_type_raw;weight;with_traffic_registration_point_direction;wrong_direction\t\t\t\t\t\t\t\n",
    "1-27849732;traffic_event_vehicle_2020_10;;traffic_event_vehicle;18;2020-10-26\t 02:16:08.090;EMU;2020-10-25\t 23:59:53.564;27849732;2020-10-25\t 23:59:53.564;1.04 EMU3/15606;23;4;4\t5;0;1;73\t2;123\t9;1;true;true;true;true;2;;LMV2;0;false;false\t\n",
    "1-27849731;traffic_event_vehicle_2020_10;;traffic_event_vehicle;18;2020-10-26\t 02:16:08.116;EMU;2020-10-25\t 23:58:28.296;27849731;2020-10-25\t 23:58:28.296;1.04 EMU3/15606;23;3;4\t6;0;1;75\t4;1\t8;1;true;true;true;true;2;;LMV2;0;true;false\t\n",
    "1-27849730;traffic_event_vehicle_2020_10;;traffic_event_vehicle;18;2020-10-26\t 02:16:08.066;EMU;2020-10-25\t 23:58:25.527;27849730;2020-10-25\t 23:58:25.527;1.04 EMU3/15606;23;3;4\t6;0;1;80\t1;6\t8;1;true;true;true;true;2;;LMV2;0;true;false\t\n",
    "1-27849729;traffic_event_vehicle_2020_10;;traffic_event_vehicle;18;2020-10-26\t 02:16:08.085;EMU;2020-10-25\t 23:58:19.077;27849729;2020-10-25\t 23:58:19.077;1.04 EMU3/15606;23;3;4\t1;0;1;75\t4;69\t9;1;true;true;true;true;2;;LMV2;0;true;false\t\n",
    "```\n",
    "\n"
   ]
  },
  {
   "cell_type": "markdown",
   "metadata": {
    "id": "kYRy3vHVKbIk"
   },
   "source": [
    "### Pandas in Python\n",
    "\n",
    "One of the best options for working with tabular data in Python is to use the Python Data Analysis Library (a.k.a. Pandas). The Pandas library provides data structures, produces high quality plots with matplotlib and integrates nicely with other libraries that use NumPy (which is another Python library) arrays.\n",
    "\n",
    "Python doesn’t load all of the libraries available to it by default. We have to add an import statement to our code in order to use library functions:"
   ]
  },
  {
   "cell_type": "code",
   "execution_count": 2,
   "metadata": {
    "id": "KDspbsx58HY8"
   },
   "outputs": [],
   "source": [
    "import pandas as pd"
   ]
  },
  {
   "cell_type": "markdown",
   "metadata": {
    "id": "8giAyTbn2zon"
   },
   "source": [
    "### Reading CSV Data Using Pandas\n",
    "\n",
    "We will begin by locating and reading our data which are in CSV format. CSV stands for Comma-Separated Values and is a common way to store formatted data. Other symbols may also be used, so you might see tab-separated, colon-separated or space separated files. It is quite easy to replace one separator with another, to match your application. The first line in the file often has headers to explain what is in each column. CSV (and other separators) make it easy to share data, and can be imported and exported from many applications, including Microsoft Excel. For more details on CSV files, see the Data Organisation in Spreadsheets lesson. We can use Pandas’ `read_csv` function to pull the file directly into a `DataFrame`.\n",
    "\n",
    "### So What’s a DataFrame?\n",
    "\n",
    "A DataFrame is a 2-dimensional data structure that can store data of different types (including characters, integers, floating point values, factors and more) in columns. It is similar to a spreadsheet or an SQL table or the `data.frame` in R. A DataFrame always has an index (0-based). An index refers to the position of an element in the data structure."
   ]
  },
  {
   "cell_type": "code",
   "execution_count": 3,
   "metadata": {
    "colab": {
     "base_uri": "https://localhost:8080/",
     "height": 617
    },
    "id": "6XYWXI--0rgZ",
    "outputId": "f0cf6f37-86d5-4dfc-c461-92405bf62bf3"
   },
   "outputs": [
    {
     "data": {
      "text/html": [
       "<div>\n",
       "<style scoped>\n",
       "    .dataframe tbody tr th:only-of-type {\n",
       "        vertical-align: middle;\n",
       "    }\n",
       "\n",
       "    .dataframe tbody tr th {\n",
       "        vertical-align: top;\n",
       "    }\n",
       "\n",
       "    .dataframe thead th {\n",
       "        text-align: right;\n",
       "    }\n",
       "</style>\n",
       "<table border=\"1\" class=\"dataframe\">\n",
       "  <thead>\n",
       "    <tr style=\"text-align: right;\">\n",
       "      <th></th>\n",
       "      <th>created_at_timestamp</th>\n",
       "      <th>event_emitted_timestamp</th>\n",
       "      <th>event_number</th>\n",
       "      <th>event_timestamp</th>\n",
       "      <th>klokketime</th>\n",
       "      <th>lane</th>\n",
       "      <th>length</th>\n",
       "      <th>qspeed</th>\n",
       "      <th>region_id</th>\n",
       "      <th>speed</th>\n",
       "      <th>...</th>\n",
       "      <th>valid_classification</th>\n",
       "      <th>valid_event</th>\n",
       "      <th>valid_length</th>\n",
       "      <th>valid_speed</th>\n",
       "      <th>vehicle_type</th>\n",
       "      <th>vehicle_type_quality</th>\n",
       "      <th>vehicle_type_raw</th>\n",
       "      <th>weight</th>\n",
       "      <th>with_traffic_registration_point_direction</th>\n",
       "      <th>wrong_direction</th>\n",
       "    </tr>\n",
       "  </thead>\n",
       "  <tbody>\n",
       "    <tr>\n",
       "      <th>0</th>\n",
       "      <td>2020-10-26, 02:16:08.090</td>\n",
       "      <td>2020-10-25, 23:59:53.564</td>\n",
       "      <td>27849732</td>\n",
       "      <td>2020-10-25, 23:59:53.564</td>\n",
       "      <td>23</td>\n",
       "      <td>4</td>\n",
       "      <td>4.5</td>\n",
       "      <td>0.0</td>\n",
       "      <td>1</td>\n",
       "      <td>73.2</td>\n",
       "      <td>...</td>\n",
       "      <td>True</td>\n",
       "      <td>True</td>\n",
       "      <td>True</td>\n",
       "      <td>True</td>\n",
       "      <td>2.0</td>\n",
       "      <td>NaN</td>\n",
       "      <td>LMV2</td>\n",
       "      <td>0</td>\n",
       "      <td>False</td>\n",
       "      <td>False</td>\n",
       "    </tr>\n",
       "    <tr>\n",
       "      <th>1</th>\n",
       "      <td>2020-10-26, 02:16:08.116</td>\n",
       "      <td>2020-10-25, 23:58:28.296</td>\n",
       "      <td>27849731</td>\n",
       "      <td>2020-10-25, 23:58:28.296</td>\n",
       "      <td>23</td>\n",
       "      <td>3</td>\n",
       "      <td>4.6</td>\n",
       "      <td>0.0</td>\n",
       "      <td>1</td>\n",
       "      <td>75.4</td>\n",
       "      <td>...</td>\n",
       "      <td>True</td>\n",
       "      <td>True</td>\n",
       "      <td>True</td>\n",
       "      <td>True</td>\n",
       "      <td>2.0</td>\n",
       "      <td>NaN</td>\n",
       "      <td>LMV2</td>\n",
       "      <td>0</td>\n",
       "      <td>True</td>\n",
       "      <td>False</td>\n",
       "    </tr>\n",
       "    <tr>\n",
       "      <th>2</th>\n",
       "      <td>2020-10-26, 02:16:08.066</td>\n",
       "      <td>2020-10-25, 23:58:25.527</td>\n",
       "      <td>27849730</td>\n",
       "      <td>2020-10-25, 23:58:25.527</td>\n",
       "      <td>23</td>\n",
       "      <td>3</td>\n",
       "      <td>4.6</td>\n",
       "      <td>0.0</td>\n",
       "      <td>1</td>\n",
       "      <td>80.1</td>\n",
       "      <td>...</td>\n",
       "      <td>True</td>\n",
       "      <td>True</td>\n",
       "      <td>True</td>\n",
       "      <td>True</td>\n",
       "      <td>2.0</td>\n",
       "      <td>NaN</td>\n",
       "      <td>LMV2</td>\n",
       "      <td>0</td>\n",
       "      <td>True</td>\n",
       "      <td>False</td>\n",
       "    </tr>\n",
       "    <tr>\n",
       "      <th>3</th>\n",
       "      <td>2020-10-26, 02:16:08.085</td>\n",
       "      <td>2020-10-25, 23:58:19.077</td>\n",
       "      <td>27849729</td>\n",
       "      <td>2020-10-25, 23:58:19.077</td>\n",
       "      <td>23</td>\n",
       "      <td>3</td>\n",
       "      <td>4.1</td>\n",
       "      <td>0.0</td>\n",
       "      <td>1</td>\n",
       "      <td>75.4</td>\n",
       "      <td>...</td>\n",
       "      <td>True</td>\n",
       "      <td>True</td>\n",
       "      <td>True</td>\n",
       "      <td>True</td>\n",
       "      <td>2.0</td>\n",
       "      <td>NaN</td>\n",
       "      <td>LMV2</td>\n",
       "      <td>0</td>\n",
       "      <td>True</td>\n",
       "      <td>False</td>\n",
       "    </tr>\n",
       "    <tr>\n",
       "      <th>4</th>\n",
       "      <td>2020-10-26, 02:16:08.116</td>\n",
       "      <td>2020-10-25, 23:57:49.695</td>\n",
       "      <td>27849728</td>\n",
       "      <td>2020-10-25, 23:57:49.695</td>\n",
       "      <td>23</td>\n",
       "      <td>4</td>\n",
       "      <td>4.3</td>\n",
       "      <td>2.3</td>\n",
       "      <td>1</td>\n",
       "      <td>75.4</td>\n",
       "      <td>...</td>\n",
       "      <td>False</td>\n",
       "      <td>True</td>\n",
       "      <td>False</td>\n",
       "      <td>False</td>\n",
       "      <td>2.0</td>\n",
       "      <td>NaN</td>\n",
       "      <td>LMV2</td>\n",
       "      <td>0</td>\n",
       "      <td>False</td>\n",
       "      <td>False</td>\n",
       "    </tr>\n",
       "    <tr>\n",
       "      <th>...</th>\n",
       "      <td>...</td>\n",
       "      <td>...</td>\n",
       "      <td>...</td>\n",
       "      <td>...</td>\n",
       "      <td>...</td>\n",
       "      <td>...</td>\n",
       "      <td>...</td>\n",
       "      <td>...</td>\n",
       "      <td>...</td>\n",
       "      <td>...</td>\n",
       "      <td>...</td>\n",
       "      <td>...</td>\n",
       "      <td>...</td>\n",
       "      <td>...</td>\n",
       "      <td>...</td>\n",
       "      <td>...</td>\n",
       "      <td>...</td>\n",
       "      <td>...</td>\n",
       "      <td>...</td>\n",
       "      <td>...</td>\n",
       "      <td>...</td>\n",
       "    </tr>\n",
       "    <tr>\n",
       "      <th>299772</th>\n",
       "      <td>2020-10-12, 03:06:45.940</td>\n",
       "      <td>2020-10-12, 00:02:36.830</td>\n",
       "      <td>27549743</td>\n",
       "      <td>2020-10-12, 00:02:36.830</td>\n",
       "      <td>0</td>\n",
       "      <td>4</td>\n",
       "      <td>4.2</td>\n",
       "      <td>0.0</td>\n",
       "      <td>1</td>\n",
       "      <td>80.1</td>\n",
       "      <td>...</td>\n",
       "      <td>True</td>\n",
       "      <td>True</td>\n",
       "      <td>True</td>\n",
       "      <td>True</td>\n",
       "      <td>2.0</td>\n",
       "      <td>NaN</td>\n",
       "      <td>LMV2</td>\n",
       "      <td>0</td>\n",
       "      <td>False</td>\n",
       "      <td>False</td>\n",
       "    </tr>\n",
       "    <tr>\n",
       "      <th>299773</th>\n",
       "      <td>2020-10-12, 03:06:45.939</td>\n",
       "      <td>2020-10-12, 00:01:51.299</td>\n",
       "      <td>27549742</td>\n",
       "      <td>2020-10-12, 00:01:51.299</td>\n",
       "      <td>0</td>\n",
       "      <td>4</td>\n",
       "      <td>5.4</td>\n",
       "      <td>0.0</td>\n",
       "      <td>1</td>\n",
       "      <td>77.7</td>\n",
       "      <td>...</td>\n",
       "      <td>True</td>\n",
       "      <td>True</td>\n",
       "      <td>True</td>\n",
       "      <td>True</td>\n",
       "      <td>2.0</td>\n",
       "      <td>NaN</td>\n",
       "      <td>LMV2</td>\n",
       "      <td>0</td>\n",
       "      <td>False</td>\n",
       "      <td>False</td>\n",
       "    </tr>\n",
       "    <tr>\n",
       "      <th>299774</th>\n",
       "      <td>2020-10-12, 03:06:45.944</td>\n",
       "      <td>2020-10-12, 00:01:35.216</td>\n",
       "      <td>27549741</td>\n",
       "      <td>2020-10-12, 00:01:35.216</td>\n",
       "      <td>0</td>\n",
       "      <td>3</td>\n",
       "      <td>4.1</td>\n",
       "      <td>0.0</td>\n",
       "      <td>1</td>\n",
       "      <td>77.7</td>\n",
       "      <td>...</td>\n",
       "      <td>True</td>\n",
       "      <td>True</td>\n",
       "      <td>True</td>\n",
       "      <td>True</td>\n",
       "      <td>2.0</td>\n",
       "      <td>NaN</td>\n",
       "      <td>LMV2</td>\n",
       "      <td>0</td>\n",
       "      <td>True</td>\n",
       "      <td>False</td>\n",
       "    </tr>\n",
       "    <tr>\n",
       "      <th>299775</th>\n",
       "      <td>2020-10-12, 03:06:45.947</td>\n",
       "      <td>2020-10-12, 00:01:28.606</td>\n",
       "      <td>27549740</td>\n",
       "      <td>2020-10-12, 00:01:28.606</td>\n",
       "      <td>0</td>\n",
       "      <td>4</td>\n",
       "      <td>4.1</td>\n",
       "      <td>0.0</td>\n",
       "      <td>1</td>\n",
       "      <td>67.5</td>\n",
       "      <td>...</td>\n",
       "      <td>True</td>\n",
       "      <td>True</td>\n",
       "      <td>True</td>\n",
       "      <td>True</td>\n",
       "      <td>2.0</td>\n",
       "      <td>NaN</td>\n",
       "      <td>LMV2</td>\n",
       "      <td>0</td>\n",
       "      <td>False</td>\n",
       "      <td>False</td>\n",
       "    </tr>\n",
       "    <tr>\n",
       "      <th>299776</th>\n",
       "      <td>2020-10-12, 03:06:45.940</td>\n",
       "      <td>2020-10-12, 00:01:20.541</td>\n",
       "      <td>27549739</td>\n",
       "      <td>2020-10-12, 00:01:20.541</td>\n",
       "      <td>0</td>\n",
       "      <td>4</td>\n",
       "      <td>4.6</td>\n",
       "      <td>0.0</td>\n",
       "      <td>1</td>\n",
       "      <td>77.7</td>\n",
       "      <td>...</td>\n",
       "      <td>True</td>\n",
       "      <td>True</td>\n",
       "      <td>True</td>\n",
       "      <td>True</td>\n",
       "      <td>2.0</td>\n",
       "      <td>NaN</td>\n",
       "      <td>LMV2</td>\n",
       "      <td>0</td>\n",
       "      <td>False</td>\n",
       "      <td>False</td>\n",
       "    </tr>\n",
       "  </tbody>\n",
       "</table>\n",
       "<p>299777 rows × 22 columns</p>\n",
       "</div>"
      ],
      "text/plain": [
       "            created_at_timestamp   event_emitted_timestamp  event_number  \\\n",
       "0       2020-10-26, 02:16:08.090  2020-10-25, 23:59:53.564      27849732   \n",
       "1       2020-10-26, 02:16:08.116  2020-10-25, 23:58:28.296      27849731   \n",
       "2       2020-10-26, 02:16:08.066  2020-10-25, 23:58:25.527      27849730   \n",
       "3       2020-10-26, 02:16:08.085  2020-10-25, 23:58:19.077      27849729   \n",
       "4       2020-10-26, 02:16:08.116  2020-10-25, 23:57:49.695      27849728   \n",
       "...                          ...                       ...           ...   \n",
       "299772  2020-10-12, 03:06:45.940  2020-10-12, 00:02:36.830      27549743   \n",
       "299773  2020-10-12, 03:06:45.939  2020-10-12, 00:01:51.299      27549742   \n",
       "299774  2020-10-12, 03:06:45.944  2020-10-12, 00:01:35.216      27549741   \n",
       "299775  2020-10-12, 03:06:45.947  2020-10-12, 00:01:28.606      27549740   \n",
       "299776  2020-10-12, 03:06:45.940  2020-10-12, 00:01:20.541      27549739   \n",
       "\n",
       "                 event_timestamp  klokketime  lane  length  qspeed  region_id  \\\n",
       "0       2020-10-25, 23:59:53.564          23     4     4.5     0.0          1   \n",
       "1       2020-10-25, 23:58:28.296          23     3     4.6     0.0          1   \n",
       "2       2020-10-25, 23:58:25.527          23     3     4.6     0.0          1   \n",
       "3       2020-10-25, 23:58:19.077          23     3     4.1     0.0          1   \n",
       "4       2020-10-25, 23:57:49.695          23     4     4.3     2.3          1   \n",
       "...                          ...         ...   ...     ...     ...        ...   \n",
       "299772  2020-10-12, 00:02:36.830           0     4     4.2     0.0          1   \n",
       "299773  2020-10-12, 00:01:51.299           0     4     5.4     0.0          1   \n",
       "299774  2020-10-12, 00:01:35.216           0     3     4.1     0.0          1   \n",
       "299775  2020-10-12, 00:01:28.606           0     4     4.1     0.0          1   \n",
       "299776  2020-10-12, 00:01:20.541           0     4     4.6     0.0          1   \n",
       "\n",
       "        speed  ...  valid_classification  valid_event  valid_length  \\\n",
       "0        73.2  ...                  True         True          True   \n",
       "1        75.4  ...                  True         True          True   \n",
       "2        80.1  ...                  True         True          True   \n",
       "3        75.4  ...                  True         True          True   \n",
       "4        75.4  ...                 False         True         False   \n",
       "...       ...  ...                   ...          ...           ...   \n",
       "299772   80.1  ...                  True         True          True   \n",
       "299773   77.7  ...                  True         True          True   \n",
       "299774   77.7  ...                  True         True          True   \n",
       "299775   67.5  ...                  True         True          True   \n",
       "299776   77.7  ...                  True         True          True   \n",
       "\n",
       "        valid_speed  vehicle_type  vehicle_type_quality  vehicle_type_raw  \\\n",
       "0              True           2.0                   NaN              LMV2   \n",
       "1              True           2.0                   NaN              LMV2   \n",
       "2              True           2.0                   NaN              LMV2   \n",
       "3              True           2.0                   NaN              LMV2   \n",
       "4             False           2.0                   NaN              LMV2   \n",
       "...             ...           ...                   ...               ...   \n",
       "299772         True           2.0                   NaN              LMV2   \n",
       "299773         True           2.0                   NaN              LMV2   \n",
       "299774         True           2.0                   NaN              LMV2   \n",
       "299775         True           2.0                   NaN              LMV2   \n",
       "299776         True           2.0                   NaN              LMV2   \n",
       "\n",
       "        weight with_traffic_registration_point_direction  wrong_direction  \n",
       "0            0                                     False            False  \n",
       "1            0                                      True            False  \n",
       "2            0                                      True            False  \n",
       "3            0                                      True            False  \n",
       "4            0                                     False            False  \n",
       "...        ...                                       ...              ...  \n",
       "299772       0                                     False            False  \n",
       "299773       0                                     False            False  \n",
       "299774       0                                      True            False  \n",
       "299775       0                                     False            False  \n",
       "299776       0                                     False            False  \n",
       "\n",
       "[299777 rows x 22 columns]"
      ]
     },
     "execution_count": 3,
     "metadata": {},
     "output_type": "execute_result"
    }
   ],
   "source": [
    "pd.read_csv('./data/trafikkregistreringspunkt_1_-_uke_42_og_43_2020.csv')"
   ]
  },
  {
   "cell_type": "markdown",
   "metadata": {
    "id": "_Oa-tGwi3Gkn"
   },
   "source": [
    "We can see that there were 299,777 rows parsed. Each row has 29 columns. The first column is the index of the DataFrame. The index is used to identify the position of the data, but it is not an actual column of the DataFrame. It looks like the `read_csv` function in Pandas read our file properly. However, we haven’t saved any data to memory so we can work with it. We need to assign the DataFrame to a variable. Remember that a variable is a name for a value, such as `x`, or `data`. We can create a new object with a variable name by assigning a value to it using `=`.\n",
    "\n",
    "Let’s call the imported survey data `data`:"
   ]
  },
  {
   "cell_type": "code",
   "execution_count": 40,
   "metadata": {
    "id": "kgpiL4ZO3AfR"
   },
   "outputs": [],
   "source": [
    "data = pd.read_csv('./data/trafikkregistreringspunkt_1_-_uke_42_og_43_2020.csv')"
   ]
  },
  {
   "cell_type": "markdown",
   "metadata": {
    "id": "kKdqvxbq4Znn"
   },
   "source": [
    "Notice when you assign the imported DataFrame to a variable, Python does not produce any output on the screen. We can view the value of the surveys_df object by typing its name into the Python command prompt."
   ]
  },
  {
   "cell_type": "code",
   "execution_count": 41,
   "metadata": {
    "colab": {
     "base_uri": "https://localhost:8080/",
     "height": 617
    },
    "id": "2O_da4XU4UBZ",
    "outputId": "c9cceb98-f754-461b-ee06-d1cfc59ae2fa"
   },
   "outputs": [
    {
     "data": {
      "text/html": [
       "<div>\n",
       "<style scoped>\n",
       "    .dataframe tbody tr th:only-of-type {\n",
       "        vertical-align: middle;\n",
       "    }\n",
       "\n",
       "    .dataframe tbody tr th {\n",
       "        vertical-align: top;\n",
       "    }\n",
       "\n",
       "    .dataframe thead th {\n",
       "        text-align: right;\n",
       "    }\n",
       "</style>\n",
       "<table border=\"1\" class=\"dataframe\">\n",
       "  <thead>\n",
       "    <tr style=\"text-align: right;\">\n",
       "      <th></th>\n",
       "      <th>created_at_timestamp</th>\n",
       "      <th>event_emitted_timestamp</th>\n",
       "      <th>event_number</th>\n",
       "      <th>event_timestamp</th>\n",
       "      <th>klokketime</th>\n",
       "      <th>lane</th>\n",
       "      <th>length</th>\n",
       "      <th>qspeed</th>\n",
       "      <th>region_id</th>\n",
       "      <th>speed</th>\n",
       "      <th>...</th>\n",
       "      <th>valid_classification</th>\n",
       "      <th>valid_event</th>\n",
       "      <th>valid_length</th>\n",
       "      <th>valid_speed</th>\n",
       "      <th>vehicle_type</th>\n",
       "      <th>vehicle_type_quality</th>\n",
       "      <th>vehicle_type_raw</th>\n",
       "      <th>weight</th>\n",
       "      <th>with_traffic_registration_point_direction</th>\n",
       "      <th>wrong_direction</th>\n",
       "    </tr>\n",
       "  </thead>\n",
       "  <tbody>\n",
       "    <tr>\n",
       "      <th>0</th>\n",
       "      <td>2020-10-26, 02:16:08.090</td>\n",
       "      <td>2020-10-25, 23:59:53.564</td>\n",
       "      <td>27849732</td>\n",
       "      <td>2020-10-25, 23:59:53.564</td>\n",
       "      <td>23</td>\n",
       "      <td>4</td>\n",
       "      <td>4.5</td>\n",
       "      <td>0.0</td>\n",
       "      <td>1</td>\n",
       "      <td>73.2</td>\n",
       "      <td>...</td>\n",
       "      <td>True</td>\n",
       "      <td>True</td>\n",
       "      <td>True</td>\n",
       "      <td>True</td>\n",
       "      <td>2</td>\n",
       "      <td>NaN</td>\n",
       "      <td>LMV2</td>\n",
       "      <td>0</td>\n",
       "      <td>False</td>\n",
       "      <td>False</td>\n",
       "    </tr>\n",
       "    <tr>\n",
       "      <th>1</th>\n",
       "      <td>2020-10-26, 02:16:08.116</td>\n",
       "      <td>2020-10-25, 23:58:28.296</td>\n",
       "      <td>27849731</td>\n",
       "      <td>2020-10-25, 23:58:28.296</td>\n",
       "      <td>23</td>\n",
       "      <td>3</td>\n",
       "      <td>4.6</td>\n",
       "      <td>0.0</td>\n",
       "      <td>1</td>\n",
       "      <td>75.4</td>\n",
       "      <td>...</td>\n",
       "      <td>True</td>\n",
       "      <td>True</td>\n",
       "      <td>True</td>\n",
       "      <td>True</td>\n",
       "      <td>2</td>\n",
       "      <td>NaN</td>\n",
       "      <td>LMV2</td>\n",
       "      <td>0</td>\n",
       "      <td>True</td>\n",
       "      <td>False</td>\n",
       "    </tr>\n",
       "    <tr>\n",
       "      <th>2</th>\n",
       "      <td>2020-10-26, 02:16:08.066</td>\n",
       "      <td>2020-10-25, 23:58:25.527</td>\n",
       "      <td>27849730</td>\n",
       "      <td>2020-10-25, 23:58:25.527</td>\n",
       "      <td>23</td>\n",
       "      <td>3</td>\n",
       "      <td>4.6</td>\n",
       "      <td>0.0</td>\n",
       "      <td>1</td>\n",
       "      <td>80.1</td>\n",
       "      <td>...</td>\n",
       "      <td>True</td>\n",
       "      <td>True</td>\n",
       "      <td>True</td>\n",
       "      <td>True</td>\n",
       "      <td>2</td>\n",
       "      <td>NaN</td>\n",
       "      <td>LMV2</td>\n",
       "      <td>0</td>\n",
       "      <td>True</td>\n",
       "      <td>False</td>\n",
       "    </tr>\n",
       "    <tr>\n",
       "      <th>3</th>\n",
       "      <td>2020-10-26, 02:16:08.085</td>\n",
       "      <td>2020-10-25, 23:58:19.077</td>\n",
       "      <td>27849729</td>\n",
       "      <td>2020-10-25, 23:58:19.077</td>\n",
       "      <td>23</td>\n",
       "      <td>3</td>\n",
       "      <td>4.1</td>\n",
       "      <td>0.0</td>\n",
       "      <td>1</td>\n",
       "      <td>75.4</td>\n",
       "      <td>...</td>\n",
       "      <td>True</td>\n",
       "      <td>True</td>\n",
       "      <td>True</td>\n",
       "      <td>True</td>\n",
       "      <td>2</td>\n",
       "      <td>NaN</td>\n",
       "      <td>LMV2</td>\n",
       "      <td>0</td>\n",
       "      <td>True</td>\n",
       "      <td>False</td>\n",
       "    </tr>\n",
       "    <tr>\n",
       "      <th>4</th>\n",
       "      <td>2020-10-26, 02:16:08.116</td>\n",
       "      <td>2020-10-25, 23:57:49.695</td>\n",
       "      <td>27849728</td>\n",
       "      <td>2020-10-25, 23:57:49.695</td>\n",
       "      <td>23</td>\n",
       "      <td>4</td>\n",
       "      <td>4.3</td>\n",
       "      <td>2.3</td>\n",
       "      <td>1</td>\n",
       "      <td>75.4</td>\n",
       "      <td>...</td>\n",
       "      <td>False</td>\n",
       "      <td>True</td>\n",
       "      <td>False</td>\n",
       "      <td>False</td>\n",
       "      <td>2</td>\n",
       "      <td>NaN</td>\n",
       "      <td>LMV2</td>\n",
       "      <td>0</td>\n",
       "      <td>False</td>\n",
       "      <td>False</td>\n",
       "    </tr>\n",
       "    <tr>\n",
       "      <th>...</th>\n",
       "      <td>...</td>\n",
       "      <td>...</td>\n",
       "      <td>...</td>\n",
       "      <td>...</td>\n",
       "      <td>...</td>\n",
       "      <td>...</td>\n",
       "      <td>...</td>\n",
       "      <td>...</td>\n",
       "      <td>...</td>\n",
       "      <td>...</td>\n",
       "      <td>...</td>\n",
       "      <td>...</td>\n",
       "      <td>...</td>\n",
       "      <td>...</td>\n",
       "      <td>...</td>\n",
       "      <td>...</td>\n",
       "      <td>...</td>\n",
       "      <td>...</td>\n",
       "      <td>...</td>\n",
       "      <td>...</td>\n",
       "      <td>...</td>\n",
       "    </tr>\n",
       "    <tr>\n",
       "      <th>299772</th>\n",
       "      <td>2020-10-12, 03:06:45.940</td>\n",
       "      <td>2020-10-12, 00:02:36.830</td>\n",
       "      <td>27549743</td>\n",
       "      <td>2020-10-12, 00:02:36.830</td>\n",
       "      <td>0</td>\n",
       "      <td>4</td>\n",
       "      <td>4.2</td>\n",
       "      <td>0.0</td>\n",
       "      <td>1</td>\n",
       "      <td>80.1</td>\n",
       "      <td>...</td>\n",
       "      <td>True</td>\n",
       "      <td>True</td>\n",
       "      <td>True</td>\n",
       "      <td>True</td>\n",
       "      <td>2</td>\n",
       "      <td>NaN</td>\n",
       "      <td>LMV2</td>\n",
       "      <td>0</td>\n",
       "      <td>False</td>\n",
       "      <td>False</td>\n",
       "    </tr>\n",
       "    <tr>\n",
       "      <th>299773</th>\n",
       "      <td>2020-10-12, 03:06:45.939</td>\n",
       "      <td>2020-10-12, 00:01:51.299</td>\n",
       "      <td>27549742</td>\n",
       "      <td>2020-10-12, 00:01:51.299</td>\n",
       "      <td>0</td>\n",
       "      <td>4</td>\n",
       "      <td>5.4</td>\n",
       "      <td>0.0</td>\n",
       "      <td>1</td>\n",
       "      <td>77.7</td>\n",
       "      <td>...</td>\n",
       "      <td>True</td>\n",
       "      <td>True</td>\n",
       "      <td>True</td>\n",
       "      <td>True</td>\n",
       "      <td>2</td>\n",
       "      <td>NaN</td>\n",
       "      <td>LMV2</td>\n",
       "      <td>0</td>\n",
       "      <td>False</td>\n",
       "      <td>False</td>\n",
       "    </tr>\n",
       "    <tr>\n",
       "      <th>299774</th>\n",
       "      <td>2020-10-12, 03:06:45.944</td>\n",
       "      <td>2020-10-12, 00:01:35.216</td>\n",
       "      <td>27549741</td>\n",
       "      <td>2020-10-12, 00:01:35.216</td>\n",
       "      <td>0</td>\n",
       "      <td>3</td>\n",
       "      <td>4.1</td>\n",
       "      <td>0.0</td>\n",
       "      <td>1</td>\n",
       "      <td>77.7</td>\n",
       "      <td>...</td>\n",
       "      <td>True</td>\n",
       "      <td>True</td>\n",
       "      <td>True</td>\n",
       "      <td>True</td>\n",
       "      <td>2</td>\n",
       "      <td>NaN</td>\n",
       "      <td>LMV2</td>\n",
       "      <td>0</td>\n",
       "      <td>True</td>\n",
       "      <td>False</td>\n",
       "    </tr>\n",
       "    <tr>\n",
       "      <th>299775</th>\n",
       "      <td>2020-10-12, 03:06:45.947</td>\n",
       "      <td>2020-10-12, 00:01:28.606</td>\n",
       "      <td>27549740</td>\n",
       "      <td>2020-10-12, 00:01:28.606</td>\n",
       "      <td>0</td>\n",
       "      <td>4</td>\n",
       "      <td>4.1</td>\n",
       "      <td>0.0</td>\n",
       "      <td>1</td>\n",
       "      <td>67.5</td>\n",
       "      <td>...</td>\n",
       "      <td>True</td>\n",
       "      <td>True</td>\n",
       "      <td>True</td>\n",
       "      <td>True</td>\n",
       "      <td>2</td>\n",
       "      <td>NaN</td>\n",
       "      <td>LMV2</td>\n",
       "      <td>0</td>\n",
       "      <td>False</td>\n",
       "      <td>False</td>\n",
       "    </tr>\n",
       "    <tr>\n",
       "      <th>299776</th>\n",
       "      <td>2020-10-12, 03:06:45.940</td>\n",
       "      <td>2020-10-12, 00:01:20.541</td>\n",
       "      <td>27549739</td>\n",
       "      <td>2020-10-12, 00:01:20.541</td>\n",
       "      <td>0</td>\n",
       "      <td>4</td>\n",
       "      <td>4.6</td>\n",
       "      <td>0.0</td>\n",
       "      <td>1</td>\n",
       "      <td>77.7</td>\n",
       "      <td>...</td>\n",
       "      <td>True</td>\n",
       "      <td>True</td>\n",
       "      <td>True</td>\n",
       "      <td>True</td>\n",
       "      <td>2</td>\n",
       "      <td>NaN</td>\n",
       "      <td>LMV2</td>\n",
       "      <td>0</td>\n",
       "      <td>False</td>\n",
       "      <td>False</td>\n",
       "    </tr>\n",
       "  </tbody>\n",
       "</table>\n",
       "<p>299777 rows × 22 columns</p>\n",
       "</div>"
      ],
      "text/plain": [
       "            created_at_timestamp   event_emitted_timestamp  event_number  \\\n",
       "0       2020-10-26, 02:16:08.090  2020-10-25, 23:59:53.564      27849732   \n",
       "1       2020-10-26, 02:16:08.116  2020-10-25, 23:58:28.296      27849731   \n",
       "2       2020-10-26, 02:16:08.066  2020-10-25, 23:58:25.527      27849730   \n",
       "3       2020-10-26, 02:16:08.085  2020-10-25, 23:58:19.077      27849729   \n",
       "4       2020-10-26, 02:16:08.116  2020-10-25, 23:57:49.695      27849728   \n",
       "...                          ...                       ...           ...   \n",
       "299772  2020-10-12, 03:06:45.940  2020-10-12, 00:02:36.830      27549743   \n",
       "299773  2020-10-12, 03:06:45.939  2020-10-12, 00:01:51.299      27549742   \n",
       "299774  2020-10-12, 03:06:45.944  2020-10-12, 00:01:35.216      27549741   \n",
       "299775  2020-10-12, 03:06:45.947  2020-10-12, 00:01:28.606      27549740   \n",
       "299776  2020-10-12, 03:06:45.940  2020-10-12, 00:01:20.541      27549739   \n",
       "\n",
       "                 event_timestamp  klokketime  lane  length  qspeed  region_id  \\\n",
       "0       2020-10-25, 23:59:53.564          23     4     4.5     0.0          1   \n",
       "1       2020-10-25, 23:58:28.296          23     3     4.6     0.0          1   \n",
       "2       2020-10-25, 23:58:25.527          23     3     4.6     0.0          1   \n",
       "3       2020-10-25, 23:58:19.077          23     3     4.1     0.0          1   \n",
       "4       2020-10-25, 23:57:49.695          23     4     4.3     2.3          1   \n",
       "...                          ...         ...   ...     ...     ...        ...   \n",
       "299772  2020-10-12, 00:02:36.830           0     4     4.2     0.0          1   \n",
       "299773  2020-10-12, 00:01:51.299           0     4     5.4     0.0          1   \n",
       "299774  2020-10-12, 00:01:35.216           0     3     4.1     0.0          1   \n",
       "299775  2020-10-12, 00:01:28.606           0     4     4.1     0.0          1   \n",
       "299776  2020-10-12, 00:01:20.541           0     4     4.6     0.0          1   \n",
       "\n",
       "        speed  ...  valid_classification  valid_event  valid_length  \\\n",
       "0        73.2  ...                  True         True          True   \n",
       "1        75.4  ...                  True         True          True   \n",
       "2        80.1  ...                  True         True          True   \n",
       "3        75.4  ...                  True         True          True   \n",
       "4        75.4  ...                 False         True         False   \n",
       "...       ...  ...                   ...          ...           ...   \n",
       "299772   80.1  ...                  True         True          True   \n",
       "299773   77.7  ...                  True         True          True   \n",
       "299774   77.7  ...                  True         True          True   \n",
       "299775   67.5  ...                  True         True          True   \n",
       "299776   77.7  ...                  True         True          True   \n",
       "\n",
       "        valid_speed  vehicle_type  vehicle_type_quality  vehicle_type_raw  \\\n",
       "0              True             2                   NaN              LMV2   \n",
       "1              True             2                   NaN              LMV2   \n",
       "2              True             2                   NaN              LMV2   \n",
       "3              True             2                   NaN              LMV2   \n",
       "4             False             2                   NaN              LMV2   \n",
       "...             ...           ...                   ...               ...   \n",
       "299772         True             2                   NaN              LMV2   \n",
       "299773         True             2                   NaN              LMV2   \n",
       "299774         True             2                   NaN              LMV2   \n",
       "299775         True             2                   NaN              LMV2   \n",
       "299776         True             2                   NaN              LMV2   \n",
       "\n",
       "        weight with_traffic_registration_point_direction  wrong_direction  \n",
       "0            0                                     False            False  \n",
       "1            0                                      True            False  \n",
       "2            0                                      True            False  \n",
       "3            0                                      True            False  \n",
       "4            0                                     False            False  \n",
       "...        ...                                       ...              ...  \n",
       "299772       0                                     False            False  \n",
       "299773       0                                     False            False  \n",
       "299774       0                                      True            False  \n",
       "299775       0                                     False            False  \n",
       "299776       0                                     False            False  \n",
       "\n",
       "[299777 rows x 22 columns]"
      ]
     },
     "execution_count": 41,
     "metadata": {},
     "output_type": "execute_result"
    }
   ],
   "source": [
    "data"
   ]
  },
  {
   "cell_type": "markdown",
   "metadata": {
    "id": "INzo4n0F4xKv"
   },
   "source": [
    "which prints contents like above."
   ]
  },
  {
   "cell_type": "markdown",
   "metadata": {
    "id": "pfes2UuThfXJ"
   },
   "source": [
    "### Exploring the data\n",
    "\n",
    "Again, we can use the `type` function to see what kind of thing `data` is:"
   ]
  },
  {
   "cell_type": "code",
   "execution_count": 42,
   "metadata": {
    "colab": {
     "base_uri": "https://localhost:8080/"
    },
    "id": "7Xkh9232hj-e",
    "outputId": "ec6f0229-ec19-4814-e373-e6deb1671423"
   },
   "outputs": [
    {
     "data": {
      "text/plain": [
       "pandas.core.frame.DataFrame"
      ]
     },
     "execution_count": 42,
     "metadata": {},
     "output_type": "execute_result"
    }
   ],
   "source": [
    "type(data)"
   ]
  },
  {
   "cell_type": "markdown",
   "metadata": {
    "id": "tnc54Yp8hmoZ"
   },
   "source": [
    "As expected, it’s a DataFrame (or, to use the full name that Python uses to refer to it internally, a pandas.core.frame.DataFrame).\n",
    "\n",
    "What kind of data does `data` contain? DataFrames have an attribute called `dtypes` that answers this:"
   ]
  },
  {
   "cell_type": "code",
   "execution_count": 43,
   "metadata": {
    "colab": {
     "base_uri": "https://localhost:8080/"
    },
    "id": "ryMvwF4rhk4J",
    "outputId": "9179d16e-d602-4e62-ac58-aecfa5c84351"
   },
   "outputs": [
    {
     "data": {
      "text/plain": [
       "created_at_timestamp                          object\n",
       "event_emitted_timestamp                       object\n",
       "event_number                                   int64\n",
       "event_timestamp                               object\n",
       "klokketime                                     int64\n",
       "lane                                           int64\n",
       "length                                       float64\n",
       "qspeed                                       float64\n",
       "region_id                                      int64\n",
       "speed                                        float64\n",
       "time_gap                                     float64\n",
       "traffic_registration_point_id                  int64\n",
       "valid_classification                            bool\n",
       "valid_event                                     bool\n",
       "valid_length                                    bool\n",
       "valid_speed                                     bool\n",
       "vehicle_type                                   int64\n",
       "vehicle_type_quality                         float64\n",
       "vehicle_type_raw                              object\n",
       "weight                                         int64\n",
       "with_traffic_registration_point_direction       bool\n",
       "wrong_direction                                 bool\n",
       "dtype: object"
      ]
     },
     "execution_count": 43,
     "metadata": {},
     "output_type": "execute_result"
    }
   ],
   "source": [
    "data.dtypes"
   ]
  },
  {
   "cell_type": "markdown",
   "metadata": {
    "id": "83eO4gznhyeS"
   },
   "source": [
    "Not all the values in a column have the same type. For example, `klokketime` have type `int64`, which is a kind of integer. Cells in the `klokketime` column cannot have fractional values, but the `_score` and `vehicle_type` columns can, because they have type `float64`. The `object` type doesn’t have a very helpful name, but it can for example represent `Strings` like `created_at_timestamp`."
   ]
  },
  {
   "cell_type": "markdown",
   "metadata": {
    "id": "2KHEiDv0ieDK"
   },
   "source": [
    "### Useful Ways to View DataFrame objects in Python\n",
    "\n",
    "There are many ways to summarize and access the data stored in DataFrames, using attributes and methods provided by the DataFrame object.\n",
    "\n",
    "To access an attribute, use the DataFrame object name followed by the attribute name `df_object.attribute`. Using the DataFrame `data` and attribute `columns`, an index of all the column names in the DataFrame can be accessed with `data.columns`.\n",
    "\n",
    "Methods are called in a similar fashion using the syntax `df_object.method()`. As an example, `data.head()` gets the first few rows in the DataFrame `data` using the `head()` method. With a method, we can supply extra information in the parens to control behaviour.\n",
    "\n",
    "Using our DataFrame `data`, try out the attributes & methods below to see what they return.\n",
    "- `data.columns`\n",
    "- `data.shape` Take note of the output of shape - what format does it return the shape of the DataFrame in?\n",
    "- `data.head()` Also, what does `data.head(15)` do?\n",
    "- `data.tail()`"
   ]
  },
  {
   "cell_type": "markdown",
   "metadata": {
    "id": "J4RBeqxYACfb"
   },
   "source": [
    "### Calculating Statistics From Data In A Pandas DataFrame\n",
    "\n",
    "We’ve read our data into Python. Next, let’s perform some quick summary statistics to learn more about the data that we’re working with. We might want to know how many animals were collected in each site, or how many of each species were caught. We can perform summary stats quickly using groups. But first we need to figure out what we want to group by.\n",
    "\n",
    "Let’s begin by exploring our data:"
   ]
  },
  {
   "cell_type": "code",
   "execution_count": 44,
   "metadata": {
    "colab": {
     "base_uri": "https://localhost:8080/"
    },
    "id": "VerUg4yOhuiD",
    "outputId": "49b273ff-25d5-4771-a38f-65663fe667f9"
   },
   "outputs": [
    {
     "data": {
      "text/plain": [
       "Index(['created_at_timestamp', 'event_emitted_timestamp', 'event_number',\n",
       "       'event_timestamp', 'klokketime', 'lane', 'length', 'qspeed',\n",
       "       'region_id', 'speed', 'time_gap', 'traffic_registration_point_id',\n",
       "       'valid_classification', 'valid_event', 'valid_length', 'valid_speed',\n",
       "       'vehicle_type', 'vehicle_type_quality', 'vehicle_type_raw', 'weight',\n",
       "       'with_traffic_registration_point_direction', 'wrong_direction'],\n",
       "      dtype='object')"
      ]
     },
     "execution_count": 44,
     "metadata": {},
     "output_type": "execute_result"
    }
   ],
   "source": [
    "data.columns"
   ]
  },
  {
   "cell_type": "markdown",
   "metadata": {
    "id": "hCKWGgefAJK5"
   },
   "source": [
    "Let’s get a list of all the vehicle types. The `unique` function tells us all of the unique values in the `vehicle_type_raw` column."
   ]
  },
  {
   "cell_type": "code",
   "execution_count": 45,
   "metadata": {
    "colab": {
     "base_uri": "https://localhost:8080/"
    },
    "id": "PdPuA-piAGjJ",
    "outputId": "a00185ab-98ab-4ea6-afc8-e1d65ca16b33"
   },
   "outputs": [
    {
     "data": {
      "text/plain": [
       "array(['LMV2', 'HMV', 'LMV2+WC', 'LMV1', 'UC LOOP'], dtype=object)"
      ]
     },
     "execution_count": 45,
     "metadata": {},
     "output_type": "execute_result"
    }
   ],
   "source": [
    "data['vehicle_type_raw'].unique()"
   ]
  },
  {
   "cell_type": "markdown",
   "metadata": {
    "id": "kU-bAy-nAhkl"
   },
   "source": [
    "**Exercise**\n",
    "\n",
    "What does `data['vehicle_type_raw'].nunique()` give?\n",
    "\n",
    "Create a list of unique vehicle types (`vehicle_type_raw`) found in the data. Call it `vehicle_types`."
   ]
  },
  {
   "cell_type": "code",
   "execution_count": null,
   "metadata": {
    "colab": {
     "base_uri": "https://localhost:8080/"
    },
    "id": "PUEVXwahAY-R",
    "outputId": "59e4f24e-b0cd-4e42-f373-f8daac5e01c0"
   },
   "outputs": [],
   "source": []
  },
  {
   "cell_type": "markdown",
   "metadata": {
    "id": "5k-RPJHc1sQC"
   },
   "source": [
    "We can easily calculate basic statistics for all numerical records:"
   ]
  },
  {
   "cell_type": "code",
   "execution_count": 46,
   "metadata": {
    "colab": {
     "base_uri": "https://localhost:8080/",
     "height": 320
    },
    "id": "TrJa8Wth1xYT",
    "outputId": "ddbced1e-4f9b-4718-fbec-36a1e073f887"
   },
   "outputs": [
    {
     "data": {
      "text/html": [
       "<div>\n",
       "<style scoped>\n",
       "    .dataframe tbody tr th:only-of-type {\n",
       "        vertical-align: middle;\n",
       "    }\n",
       "\n",
       "    .dataframe tbody tr th {\n",
       "        vertical-align: top;\n",
       "    }\n",
       "\n",
       "    .dataframe thead th {\n",
       "        text-align: right;\n",
       "    }\n",
       "</style>\n",
       "<table border=\"1\" class=\"dataframe\">\n",
       "  <thead>\n",
       "    <tr style=\"text-align: right;\">\n",
       "      <th></th>\n",
       "      <th>event_number</th>\n",
       "      <th>klokketime</th>\n",
       "      <th>lane</th>\n",
       "      <th>length</th>\n",
       "      <th>qspeed</th>\n",
       "      <th>region_id</th>\n",
       "      <th>speed</th>\n",
       "      <th>time_gap</th>\n",
       "      <th>traffic_registration_point_id</th>\n",
       "      <th>vehicle_type</th>\n",
       "      <th>vehicle_type_quality</th>\n",
       "      <th>weight</th>\n",
       "    </tr>\n",
       "  </thead>\n",
       "  <tbody>\n",
       "    <tr>\n",
       "      <th>count</th>\n",
       "      <td>2.997770e+05</td>\n",
       "      <td>299777.000000</td>\n",
       "      <td>299777.000000</td>\n",
       "      <td>299777.000000</td>\n",
       "      <td>299777.000000</td>\n",
       "      <td>299777.0</td>\n",
       "      <td>299777.000000</td>\n",
       "      <td>299777.000000</td>\n",
       "      <td>299777.0</td>\n",
       "      <td>299777.000000</td>\n",
       "      <td>0.0</td>\n",
       "      <td>299777.0</td>\n",
       "    </tr>\n",
       "    <tr>\n",
       "      <th>mean</th>\n",
       "      <td>2.769971e+07</td>\n",
       "      <td>13.560760</td>\n",
       "      <td>3.082418</td>\n",
       "      <td>4.969835</td>\n",
       "      <td>0.643988</td>\n",
       "      <td>1.0</td>\n",
       "      <td>76.711151</td>\n",
       "      <td>15.496868</td>\n",
       "      <td>1.0</td>\n",
       "      <td>2.094120</td>\n",
       "      <td>NaN</td>\n",
       "      <td>0.0</td>\n",
       "    </tr>\n",
       "    <tr>\n",
       "      <th>std</th>\n",
       "      <td>8.662735e+04</td>\n",
       "      <td>4.606718</td>\n",
       "      <td>0.966889</td>\n",
       "      <td>2.171577</td>\n",
       "      <td>1.048323</td>\n",
       "      <td>0.0</td>\n",
       "      <td>14.752190</td>\n",
       "      <td>93.136077</td>\n",
       "      <td>0.0</td>\n",
       "      <td>0.356679</td>\n",
       "      <td>NaN</td>\n",
       "      <td>0.0</td>\n",
       "    </tr>\n",
       "    <tr>\n",
       "      <th>min</th>\n",
       "      <td>2.754974e+07</td>\n",
       "      <td>0.000000</td>\n",
       "      <td>1.000000</td>\n",
       "      <td>0.500000</td>\n",
       "      <td>-7.000000</td>\n",
       "      <td>1.0</td>\n",
       "      <td>2.000000</td>\n",
       "      <td>-1.000000</td>\n",
       "      <td>1.0</td>\n",
       "      <td>1.000000</td>\n",
       "      <td>NaN</td>\n",
       "      <td>0.0</td>\n",
       "    </tr>\n",
       "    <tr>\n",
       "      <th>25%</th>\n",
       "      <td>2.762468e+07</td>\n",
       "      <td>10.000000</td>\n",
       "      <td>3.000000</td>\n",
       "      <td>4.300000</td>\n",
       "      <td>0.000000</td>\n",
       "      <td>1.0</td>\n",
       "      <td>71.200000</td>\n",
       "      <td>2.400000</td>\n",
       "      <td>1.0</td>\n",
       "      <td>2.000000</td>\n",
       "      <td>NaN</td>\n",
       "      <td>0.0</td>\n",
       "    </tr>\n",
       "    <tr>\n",
       "      <th>50%</th>\n",
       "      <td>2.769963e+07</td>\n",
       "      <td>14.000000</td>\n",
       "      <td>3.000000</td>\n",
       "      <td>4.600000</td>\n",
       "      <td>0.000000</td>\n",
       "      <td>1.0</td>\n",
       "      <td>77.700000</td>\n",
       "      <td>4.700000</td>\n",
       "      <td>1.0</td>\n",
       "      <td>2.000000</td>\n",
       "      <td>NaN</td>\n",
       "      <td>0.0</td>\n",
       "    </tr>\n",
       "    <tr>\n",
       "      <th>75%</th>\n",
       "      <td>2.777479e+07</td>\n",
       "      <td>17.000000</td>\n",
       "      <td>4.000000</td>\n",
       "      <td>4.900000</td>\n",
       "      <td>2.000000</td>\n",
       "      <td>1.0</td>\n",
       "      <td>82.700000</td>\n",
       "      <td>11.700000</td>\n",
       "      <td>1.0</td>\n",
       "      <td>2.000000</td>\n",
       "      <td>NaN</td>\n",
       "      <td>0.0</td>\n",
       "    </tr>\n",
       "    <tr>\n",
       "      <th>max</th>\n",
       "      <td>2.784973e+07</td>\n",
       "      <td>23.000000</td>\n",
       "      <td>4.000000</td>\n",
       "      <td>655.400000</td>\n",
       "      <td>5.100000</td>\n",
       "      <td>1.0</td>\n",
       "      <td>6553.500000</td>\n",
       "      <td>6553.500000</td>\n",
       "      <td>1.0</td>\n",
       "      <td>4.000000</td>\n",
       "      <td>NaN</td>\n",
       "      <td>0.0</td>\n",
       "    </tr>\n",
       "  </tbody>\n",
       "</table>\n",
       "</div>"
      ],
      "text/plain": [
       "       event_number     klokketime           lane         length  \\\n",
       "count  2.997770e+05  299777.000000  299777.000000  299777.000000   \n",
       "mean   2.769971e+07      13.560760       3.082418       4.969835   \n",
       "std    8.662735e+04       4.606718       0.966889       2.171577   \n",
       "min    2.754974e+07       0.000000       1.000000       0.500000   \n",
       "25%    2.762468e+07      10.000000       3.000000       4.300000   \n",
       "50%    2.769963e+07      14.000000       3.000000       4.600000   \n",
       "75%    2.777479e+07      17.000000       4.000000       4.900000   \n",
       "max    2.784973e+07      23.000000       4.000000     655.400000   \n",
       "\n",
       "              qspeed  region_id          speed       time_gap  \\\n",
       "count  299777.000000   299777.0  299777.000000  299777.000000   \n",
       "mean        0.643988        1.0      76.711151      15.496868   \n",
       "std         1.048323        0.0      14.752190      93.136077   \n",
       "min        -7.000000        1.0       2.000000      -1.000000   \n",
       "25%         0.000000        1.0      71.200000       2.400000   \n",
       "50%         0.000000        1.0      77.700000       4.700000   \n",
       "75%         2.000000        1.0      82.700000      11.700000   \n",
       "max         5.100000        1.0    6553.500000    6553.500000   \n",
       "\n",
       "       traffic_registration_point_id   vehicle_type  vehicle_type_quality  \\\n",
       "count                       299777.0  299777.000000                   0.0   \n",
       "mean                             1.0       2.094120                   NaN   \n",
       "std                              0.0       0.356679                   NaN   \n",
       "min                              1.0       1.000000                   NaN   \n",
       "25%                              1.0       2.000000                   NaN   \n",
       "50%                              1.0       2.000000                   NaN   \n",
       "75%                              1.0       2.000000                   NaN   \n",
       "max                              1.0       4.000000                   NaN   \n",
       "\n",
       "         weight  \n",
       "count  299777.0  \n",
       "mean        0.0  \n",
       "std         0.0  \n",
       "min         0.0  \n",
       "25%         0.0  \n",
       "50%         0.0  \n",
       "75%         0.0  \n",
       "max         0.0  "
      ]
     },
     "execution_count": 46,
     "metadata": {},
     "output_type": "execute_result"
    }
   ],
   "source": [
    "data.describe()"
   ]
  },
  {
   "cell_type": "markdown",
   "metadata": {
    "id": "6yw5x74f1dh6"
   },
   "source": [
    "### Grouping data\n",
    "\n",
    "We often want to calculate summary statistics grouped by subsets or attributes within fields of our data. For example, we might want to calculate the average speed of all vehicles per vehicle type.\n",
    "\n",
    "Similarly to calculating statistics for the whole dataset we can calculate them for a single column:\n",
    "\n"
   ]
  },
  {
   "cell_type": "code",
   "execution_count": 47,
   "metadata": {
    "colab": {
     "base_uri": "https://localhost:8080/"
    },
    "id": "pYV7GKJq1pKF",
    "outputId": "a0020bcf-ad3f-40e0-ba6b-36bc5800b75d"
   },
   "outputs": [
    {
     "data": {
      "text/plain": [
       "count    299777.000000\n",
       "mean         76.711151\n",
       "std          14.752190\n",
       "min           2.000000\n",
       "25%          71.200000\n",
       "50%          77.700000\n",
       "75%          82.700000\n",
       "max        6553.500000\n",
       "Name: speed, dtype: float64"
      ]
     },
     "execution_count": 47,
     "metadata": {},
     "output_type": "execute_result"
    }
   ],
   "source": [
    "data['speed'].describe()"
   ]
  },
  {
   "cell_type": "markdown",
   "metadata": {
    "id": "dpDjUn8f2GgX"
   },
   "source": [
    "We can also extract one specific metric if we wish:"
   ]
  },
  {
   "cell_type": "code",
   "execution_count": 48,
   "metadata": {
    "colab": {
     "base_uri": "https://localhost:8080/"
    },
    "id": "L8Mx53312Dr6",
    "outputId": "bc7fc3e4-fc89-4f3c-a424-ae96d0ed57ee"
   },
   "outputs": [
    {
     "data": {
      "text/plain": [
       "299777"
      ]
     },
     "execution_count": 48,
     "metadata": {},
     "output_type": "execute_result"
    }
   ],
   "source": [
    "data['speed'].min()\n",
    "data['speed'].max()\n",
    "data['speed'].mean()\n",
    "data['speed'].std()\n",
    "data['speed'].count()"
   ]
  },
  {
   "cell_type": "markdown",
   "metadata": {
    "id": "JnLPQp8M2PhT"
   },
   "source": [
    "But if we want to summarize by one or more variables, for example vehicle type, we can use Pandas’ `.groupby` method. Once we’ve created a groupby DataFrame, we can quickly calculate summary statistics by a group of our choice."
   ]
  },
  {
   "cell_type": "code",
   "execution_count": 49,
   "metadata": {
    "id": "TVn6RUzW2Nck"
   },
   "outputs": [],
   "source": [
    "grouped_data = data.groupby('vehicle_type')"
   ]
  },
  {
   "cell_type": "code",
   "execution_count": 50,
   "metadata": {
    "colab": {
     "base_uri": "https://localhost:8080/",
     "height": 287
    },
    "id": "JBEXGciJ2Zd2",
    "outputId": "b4ad6ba0-8591-4f40-a926-b3df82575d46"
   },
   "outputs": [
    {
     "data": {
      "text/html": [
       "<div>\n",
       "<style scoped>\n",
       "    .dataframe tbody tr th:only-of-type {\n",
       "        vertical-align: middle;\n",
       "    }\n",
       "\n",
       "    .dataframe tbody tr th {\n",
       "        vertical-align: top;\n",
       "    }\n",
       "\n",
       "    .dataframe thead tr th {\n",
       "        text-align: left;\n",
       "    }\n",
       "\n",
       "    .dataframe thead tr:last-of-type th {\n",
       "        text-align: right;\n",
       "    }\n",
       "</style>\n",
       "<table border=\"1\" class=\"dataframe\">\n",
       "  <thead>\n",
       "    <tr>\n",
       "      <th></th>\n",
       "      <th colspan=\"8\" halign=\"left\">event_number</th>\n",
       "      <th colspan=\"2\" halign=\"left\">klokketime</th>\n",
       "      <th>...</th>\n",
       "      <th colspan=\"2\" halign=\"left\">vehicle_type_quality</th>\n",
       "      <th colspan=\"8\" halign=\"left\">weight</th>\n",
       "    </tr>\n",
       "    <tr>\n",
       "      <th></th>\n",
       "      <th>count</th>\n",
       "      <th>mean</th>\n",
       "      <th>std</th>\n",
       "      <th>min</th>\n",
       "      <th>25%</th>\n",
       "      <th>50%</th>\n",
       "      <th>75%</th>\n",
       "      <th>max</th>\n",
       "      <th>count</th>\n",
       "      <th>mean</th>\n",
       "      <th>...</th>\n",
       "      <th>75%</th>\n",
       "      <th>max</th>\n",
       "      <th>count</th>\n",
       "      <th>mean</th>\n",
       "      <th>std</th>\n",
       "      <th>min</th>\n",
       "      <th>25%</th>\n",
       "      <th>50%</th>\n",
       "      <th>75%</th>\n",
       "      <th>max</th>\n",
       "    </tr>\n",
       "    <tr>\n",
       "      <th>vehicle_type</th>\n",
       "      <th></th>\n",
       "      <th></th>\n",
       "      <th></th>\n",
       "      <th></th>\n",
       "      <th></th>\n",
       "      <th></th>\n",
       "      <th></th>\n",
       "      <th></th>\n",
       "      <th></th>\n",
       "      <th></th>\n",
       "      <th></th>\n",
       "      <th></th>\n",
       "      <th></th>\n",
       "      <th></th>\n",
       "      <th></th>\n",
       "      <th></th>\n",
       "      <th></th>\n",
       "      <th></th>\n",
       "      <th></th>\n",
       "      <th></th>\n",
       "      <th></th>\n",
       "    </tr>\n",
       "  </thead>\n",
       "  <tbody>\n",
       "    <tr>\n",
       "      <th>1</th>\n",
       "      <td>349.0</td>\n",
       "      <td>2.764940e+07</td>\n",
       "      <td>80159.023739</td>\n",
       "      <td>27550458.0</td>\n",
       "      <td>27582862.00</td>\n",
       "      <td>27627435.0</td>\n",
       "      <td>27705470.00</td>\n",
       "      <td>27846924.0</td>\n",
       "      <td>349.0</td>\n",
       "      <td>13.017192</td>\n",
       "      <td>...</td>\n",
       "      <td>NaN</td>\n",
       "      <td>NaN</td>\n",
       "      <td>349.0</td>\n",
       "      <td>0.0</td>\n",
       "      <td>0.0</td>\n",
       "      <td>0.0</td>\n",
       "      <td>0.0</td>\n",
       "      <td>0.0</td>\n",
       "      <td>0.0</td>\n",
       "      <td>0.0</td>\n",
       "    </tr>\n",
       "    <tr>\n",
       "      <th>2</th>\n",
       "      <td>276804.0</td>\n",
       "      <td>2.770050e+07</td>\n",
       "      <td>86710.262429</td>\n",
       "      <td>27549739.0</td>\n",
       "      <td>27625505.75</td>\n",
       "      <td>27700034.5</td>\n",
       "      <td>27775663.25</td>\n",
       "      <td>27849732.0</td>\n",
       "      <td>276804.0</td>\n",
       "      <td>13.649655</td>\n",
       "      <td>...</td>\n",
       "      <td>NaN</td>\n",
       "      <td>NaN</td>\n",
       "      <td>276804.0</td>\n",
       "      <td>0.0</td>\n",
       "      <td>0.0</td>\n",
       "      <td>0.0</td>\n",
       "      <td>0.0</td>\n",
       "      <td>0.0</td>\n",
       "      <td>0.0</td>\n",
       "      <td>0.0</td>\n",
       "    </tr>\n",
       "    <tr>\n",
       "      <th>3</th>\n",
       "      <td>16684.0</td>\n",
       "      <td>2.768975e+07</td>\n",
       "      <td>84656.978574</td>\n",
       "      <td>27549757.0</td>\n",
       "      <td>27612596.25</td>\n",
       "      <td>27693262.5</td>\n",
       "      <td>27761688.75</td>\n",
       "      <td>27849716.0</td>\n",
       "      <td>16684.0</td>\n",
       "      <td>12.027871</td>\n",
       "      <td>...</td>\n",
       "      <td>NaN</td>\n",
       "      <td>NaN</td>\n",
       "      <td>16684.0</td>\n",
       "      <td>0.0</td>\n",
       "      <td>0.0</td>\n",
       "      <td>0.0</td>\n",
       "      <td>0.0</td>\n",
       "      <td>0.0</td>\n",
       "      <td>0.0</td>\n",
       "      <td>0.0</td>\n",
       "    </tr>\n",
       "    <tr>\n",
       "      <th>4</th>\n",
       "      <td>5940.0</td>\n",
       "      <td>2.769364e+07</td>\n",
       "      <td>85767.154850</td>\n",
       "      <td>27549785.0</td>\n",
       "      <td>27618658.25</td>\n",
       "      <td>27690945.0</td>\n",
       "      <td>27767405.25</td>\n",
       "      <td>27849641.0</td>\n",
       "      <td>5940.0</td>\n",
       "      <td>13.755724</td>\n",
       "      <td>...</td>\n",
       "      <td>NaN</td>\n",
       "      <td>NaN</td>\n",
       "      <td>5940.0</td>\n",
       "      <td>0.0</td>\n",
       "      <td>0.0</td>\n",
       "      <td>0.0</td>\n",
       "      <td>0.0</td>\n",
       "      <td>0.0</td>\n",
       "      <td>0.0</td>\n",
       "      <td>0.0</td>\n",
       "    </tr>\n",
       "  </tbody>\n",
       "</table>\n",
       "<p>4 rows × 88 columns</p>\n",
       "</div>"
      ],
      "text/plain": [
       "             event_number                                          \\\n",
       "                    count          mean           std         min   \n",
       "vehicle_type                                                        \n",
       "1                   349.0  2.764940e+07  80159.023739  27550458.0   \n",
       "2                276804.0  2.770050e+07  86710.262429  27549739.0   \n",
       "3                 16684.0  2.768975e+07  84656.978574  27549757.0   \n",
       "4                  5940.0  2.769364e+07  85767.154850  27549785.0   \n",
       "\n",
       "                                                               klokketime  \\\n",
       "                      25%         50%          75%         max      count   \n",
       "vehicle_type                                                                \n",
       "1             27582862.00  27627435.0  27705470.00  27846924.0      349.0   \n",
       "2             27625505.75  27700034.5  27775663.25  27849732.0   276804.0   \n",
       "3             27612596.25  27693262.5  27761688.75  27849716.0    16684.0   \n",
       "4             27618658.25  27690945.0  27767405.25  27849641.0     5940.0   \n",
       "\n",
       "                         ... vehicle_type_quality        weight            \\\n",
       "                   mean  ...                  75% max     count mean  std   \n",
       "vehicle_type             ...                                                \n",
       "1             13.017192  ...                  NaN NaN     349.0  0.0  0.0   \n",
       "2             13.649655  ...                  NaN NaN  276804.0  0.0  0.0   \n",
       "3             12.027871  ...                  NaN NaN   16684.0  0.0  0.0   \n",
       "4             13.755724  ...                  NaN NaN    5940.0  0.0  0.0   \n",
       "\n",
       "                                       \n",
       "              min  25%  50%  75%  max  \n",
       "vehicle_type                           \n",
       "1             0.0  0.0  0.0  0.0  0.0  \n",
       "2             0.0  0.0  0.0  0.0  0.0  \n",
       "3             0.0  0.0  0.0  0.0  0.0  \n",
       "4             0.0  0.0  0.0  0.0  0.0  \n",
       "\n",
       "[4 rows x 88 columns]"
      ]
     },
     "execution_count": 50,
     "metadata": {},
     "output_type": "execute_result"
    }
   ],
   "source": [
    "grouped_data.describe()"
   ]
  },
  {
   "cell_type": "code",
   "execution_count": 51,
   "metadata": {
    "colab": {
     "base_uri": "https://localhost:8080/",
     "height": 226
    },
    "id": "IxOgN17R2dCv",
    "outputId": "92a8110a-719e-4ab1-8345-e795051692ea"
   },
   "outputs": [
    {
     "data": {
      "text/html": [
       "<div>\n",
       "<style scoped>\n",
       "    .dataframe tbody tr th:only-of-type {\n",
       "        vertical-align: middle;\n",
       "    }\n",
       "\n",
       "    .dataframe tbody tr th {\n",
       "        vertical-align: top;\n",
       "    }\n",
       "\n",
       "    .dataframe thead th {\n",
       "        text-align: right;\n",
       "    }\n",
       "</style>\n",
       "<table border=\"1\" class=\"dataframe\">\n",
       "  <thead>\n",
       "    <tr style=\"text-align: right;\">\n",
       "      <th></th>\n",
       "      <th>event_number</th>\n",
       "      <th>klokketime</th>\n",
       "      <th>lane</th>\n",
       "      <th>length</th>\n",
       "      <th>qspeed</th>\n",
       "      <th>region_id</th>\n",
       "      <th>speed</th>\n",
       "      <th>time_gap</th>\n",
       "      <th>traffic_registration_point_id</th>\n",
       "      <th>valid_classification</th>\n",
       "      <th>valid_event</th>\n",
       "      <th>valid_length</th>\n",
       "      <th>valid_speed</th>\n",
       "      <th>vehicle_type_quality</th>\n",
       "      <th>weight</th>\n",
       "      <th>with_traffic_registration_point_direction</th>\n",
       "      <th>wrong_direction</th>\n",
       "    </tr>\n",
       "    <tr>\n",
       "      <th>vehicle_type</th>\n",
       "      <th></th>\n",
       "      <th></th>\n",
       "      <th></th>\n",
       "      <th></th>\n",
       "      <th></th>\n",
       "      <th></th>\n",
       "      <th></th>\n",
       "      <th></th>\n",
       "      <th></th>\n",
       "      <th></th>\n",
       "      <th></th>\n",
       "      <th></th>\n",
       "      <th></th>\n",
       "      <th></th>\n",
       "      <th></th>\n",
       "      <th></th>\n",
       "      <th></th>\n",
       "    </tr>\n",
       "  </thead>\n",
       "  <tbody>\n",
       "    <tr>\n",
       "      <th>1</th>\n",
       "      <td>2.764940e+07</td>\n",
       "      <td>13.017192</td>\n",
       "      <td>2.676218</td>\n",
       "      <td>0.853582</td>\n",
       "      <td>1.696275</td>\n",
       "      <td>1.0</td>\n",
       "      <td>76.120917</td>\n",
       "      <td>17.632378</td>\n",
       "      <td>1.0</td>\n",
       "      <td>0.034384</td>\n",
       "      <td>1.0</td>\n",
       "      <td>0.031519</td>\n",
       "      <td>0.237822</td>\n",
       "      <td>NaN</td>\n",
       "      <td>0.0</td>\n",
       "      <td>0.532951</td>\n",
       "      <td>0.000000</td>\n",
       "    </tr>\n",
       "    <tr>\n",
       "      <th>2</th>\n",
       "      <td>2.770050e+07</td>\n",
       "      <td>13.649655</td>\n",
       "      <td>3.064970</td>\n",
       "      <td>4.568734</td>\n",
       "      <td>0.656975</td>\n",
       "      <td>1.0</td>\n",
       "      <td>76.961914</td>\n",
       "      <td>15.369673</td>\n",
       "      <td>1.0</td>\n",
       "      <td>0.714928</td>\n",
       "      <td>1.0</td>\n",
       "      <td>0.714773</td>\n",
       "      <td>0.715084</td>\n",
       "      <td>NaN</td>\n",
       "      <td>0.0</td>\n",
       "      <td>0.495361</td>\n",
       "      <td>0.000011</td>\n",
       "    </tr>\n",
       "    <tr>\n",
       "      <th>3</th>\n",
       "      <td>2.768975e+07</td>\n",
       "      <td>12.027871</td>\n",
       "      <td>3.319348</td>\n",
       "      <td>10.351576</td>\n",
       "      <td>0.502703</td>\n",
       "      <td>1.0</td>\n",
       "      <td>73.403944</td>\n",
       "      <td>17.636796</td>\n",
       "      <td>1.0</td>\n",
       "      <td>0.776373</td>\n",
       "      <td>1.0</td>\n",
       "      <td>0.776253</td>\n",
       "      <td>0.776672</td>\n",
       "      <td>NaN</td>\n",
       "      <td>0.0</td>\n",
       "      <td>0.508871</td>\n",
       "      <td>0.000120</td>\n",
       "    </tr>\n",
       "    <tr>\n",
       "      <th>4</th>\n",
       "      <td>2.769364e+07</td>\n",
       "      <td>13.755724</td>\n",
       "      <td>3.253872</td>\n",
       "      <td>8.787020</td>\n",
       "      <td>0.373805</td>\n",
       "      <td>1.0</td>\n",
       "      <td>74.349411</td>\n",
       "      <td>15.288148</td>\n",
       "      <td>1.0</td>\n",
       "      <td>0.834512</td>\n",
       "      <td>1.0</td>\n",
       "      <td>0.834343</td>\n",
       "      <td>0.834343</td>\n",
       "      <td>NaN</td>\n",
       "      <td>0.0</td>\n",
       "      <td>0.505387</td>\n",
       "      <td>0.000000</td>\n",
       "    </tr>\n",
       "  </tbody>\n",
       "</table>\n",
       "</div>"
      ],
      "text/plain": [
       "              event_number  klokketime      lane     length    qspeed  \\\n",
       "vehicle_type                                                            \n",
       "1             2.764940e+07   13.017192  2.676218   0.853582  1.696275   \n",
       "2             2.770050e+07   13.649655  3.064970   4.568734  0.656975   \n",
       "3             2.768975e+07   12.027871  3.319348  10.351576  0.502703   \n",
       "4             2.769364e+07   13.755724  3.253872   8.787020  0.373805   \n",
       "\n",
       "              region_id      speed   time_gap  traffic_registration_point_id  \\\n",
       "vehicle_type                                                                   \n",
       "1                   1.0  76.120917  17.632378                            1.0   \n",
       "2                   1.0  76.961914  15.369673                            1.0   \n",
       "3                   1.0  73.403944  17.636796                            1.0   \n",
       "4                   1.0  74.349411  15.288148                            1.0   \n",
       "\n",
       "              valid_classification  valid_event  valid_length  valid_speed  \\\n",
       "vehicle_type                                                                 \n",
       "1                         0.034384          1.0      0.031519     0.237822   \n",
       "2                         0.714928          1.0      0.714773     0.715084   \n",
       "3                         0.776373          1.0      0.776253     0.776672   \n",
       "4                         0.834512          1.0      0.834343     0.834343   \n",
       "\n",
       "              vehicle_type_quality  weight  \\\n",
       "vehicle_type                                 \n",
       "1                              NaN     0.0   \n",
       "2                              NaN     0.0   \n",
       "3                              NaN     0.0   \n",
       "4                              NaN     0.0   \n",
       "\n",
       "              with_traffic_registration_point_direction  wrong_direction  \n",
       "vehicle_type                                                              \n",
       "1                                              0.532951         0.000000  \n",
       "2                                              0.495361         0.000011  \n",
       "3                                              0.508871         0.000120  \n",
       "4                                              0.505387         0.000000  "
      ]
     },
     "execution_count": 51,
     "metadata": {},
     "output_type": "execute_result"
    }
   ],
   "source": [
    "grouped_data.mean()"
   ]
  },
  {
   "cell_type": "markdown",
   "metadata": {},
   "source": [
    "If we wanted to, we could perform math on an entire column of our data. For example let’s multiply all weight values by 2. A more practical use of this might be to normalize the data according to a mean, area, or some other value calculated from our data."
   ]
  },
  {
   "cell_type": "code",
   "execution_count": 52,
   "metadata": {},
   "outputs": [
    {
     "name": "stdout",
     "output_type": "stream",
     "text": [
      "0         0.954229\n",
      "1         0.982908\n",
      "2         1.044177\n",
      "3         0.982908\n",
      "4         0.982908\n",
      "            ...   \n",
      "299772    1.044177\n",
      "299773    1.012891\n",
      "299774    1.012891\n",
      "299775    0.879924\n",
      "299776    1.012891\n",
      "Name: speed, Length: 299777, dtype: float64\n"
     ]
    }
   ],
   "source": [
    "speed_normalised = data['speed']/data['speed'].mean()\n",
    "print(speed_normalised)"
   ]
  },
  {
   "cell_type": "markdown",
   "metadata": {
    "id": "OQ0RBYg745DL"
   },
   "source": [
    "**Exercise**\n",
    "\n",
    "1. How many entries do we have per vehicle type?\n",
    "\n",
    "2. What happens when you group by two columns using the following syntax and then calculate mean values?\n",
    "\n",
    "```\n",
    "grouped_data2 = data.groupby(['vehicle_type', 'lane'])\n",
    "```\n",
    "\n"
   ]
  },
  {
   "cell_type": "code",
   "execution_count": null,
   "metadata": {},
   "outputs": [],
   "source": []
  },
  {
   "cell_type": "markdown",
   "metadata": {},
   "source": [
    "### A quick way to create summary counts\n",
    "\n",
    "Let’s next count the number of samples for each species. We can do this in a few ways, but we’ll use `groupby` combined with a `count()` method."
   ]
  },
  {
   "cell_type": "code",
   "execution_count": 53,
   "metadata": {},
   "outputs": [
    {
     "name": "stdout",
     "output_type": "stream",
     "text": [
      "vehicle_type\n",
      "1       349\n",
      "2    276804\n",
      "3     16684\n",
      "4      5940\n",
      "Name: event_number, dtype: int64\n"
     ]
    }
   ],
   "source": [
    "vehicle_type_count = data.groupby('vehicle_type')['event_number'].count()\n",
    "print(vehicle_type_count)"
   ]
  },
  {
   "cell_type": "markdown",
   "metadata": {
    "id": "HQU3684C3ccM"
   },
   "source": [
    "### Plotting data using Pandas\n",
    "\n",
    "We can plot our summary stats using Pandas, too."
   ]
  },
  {
   "cell_type": "code",
   "execution_count": 54,
   "metadata": {},
   "outputs": [],
   "source": [
    "# Magic to make figures appear inline in Jupyter notebooks\n",
    "%matplotlib inline"
   ]
  },
  {
   "cell_type": "code",
   "execution_count": 55,
   "metadata": {},
   "outputs": [
    {
     "data": {
      "text/plain": [
       "<AxesSubplot:xlabel='vehicle_type'>"
      ]
     },
     "execution_count": 55,
     "metadata": {},
     "output_type": "execute_result"
    },
    {
     "data": {
      "image/png": "[encoded data removed]",
      "text/plain": [
       "<Figure size 432x288 with 1 Axes>"
      ]
     },
     "metadata": {
      "needs_background": "light"
     },
     "output_type": "display_data"
    }
   ],
   "source": [
    "vehicle_type_count.plot(kind='bar')"
   ]
  },
  {
   "cell_type": "markdown",
   "metadata": {},
   "source": [
    "It looks almost like there are no vehicles of type 1, but we know that that's not true from using `count()` above. Let's transform our data to a logarithmic scale and plot again."
   ]
  },
  {
   "cell_type": "code",
   "execution_count": 56,
   "metadata": {},
   "outputs": [
    {
     "data": {
      "text/plain": [
       "<AxesSubplot:xlabel='vehicle_type'>"
      ]
     },
     "execution_count": 56,
     "metadata": {},
     "output_type": "execute_result"
    },
    {
     "data": {
      "image/png": "[encoded data removed]",
      "text/plain": [
       "<Figure size 432x288 with 1 Axes>"
      ]
     },
     "metadata": {
      "needs_background": "light"
     },
     "output_type": "display_data"
    }
   ],
   "source": [
    "import numpy as np\n",
    "vehicle_type_count_log = np.log(vehicle_type_count)\n",
    "vehicle_type_count_log.plot(kind='bar')"
   ]
  },
  {
   "cell_type": "markdown",
   "metadata": {},
   "source": [
    "We can also look at how many vehicles were captured in each lane"
   ]
  },
  {
   "cell_type": "code",
   "execution_count": 57,
   "metadata": {},
   "outputs": [
    {
     "data": {
      "text/plain": [
       "<AxesSubplot:xlabel='lane'>"
      ]
     },
     "execution_count": 57,
     "metadata": {},
     "output_type": "execute_result"
    },
    {
     "data": {
      "image/png": "[encoded data removed]",
      "text/plain": [
       "<Figure size 432x288 with 1 Axes>"
      ]
     },
     "metadata": {
      "needs_background": "light"
     },
     "output_type": "display_data"
    }
   ],
   "source": [
    "total_count = data.groupby('lane')['event_number'].nunique()\n",
    "total_count.plot(kind='bar')"
   ]
  },
  {
   "cell_type": "markdown",
   "metadata": {},
   "source": [
    "**Exercise**\n",
    "\n",
    "Create a plot of average speed per vehicle type, and one plot of average speed per lane."
   ]
  },
  {
   "cell_type": "code",
   "execution_count": null,
   "metadata": {},
   "outputs": [],
   "source": []
  },
  {
   "cell_type": "markdown",
   "metadata": {},
   "source": [
    "Let's look at the validity of entries per vehicle type. To do that we create a stacked bar plot, with validity (True or False) as the stacked variable. First we need a new variable for the total validity of an entry"
   ]
  },
  {
   "cell_type": "code",
   "execution_count": 95,
   "metadata": {},
   "outputs": [],
   "source": [
    "data['valid'] = data['valid_classification'] & data['valid_event'] &\\\n",
    "                data['valid_length'] & ['valid_speed']\n",
    "data['valid'] = data['valid'].astype(int)"
   ]
  },
  {
   "cell_type": "code",
   "execution_count": 107,
   "metadata": {},
   "outputs": [
    {
     "data": {
      "text/plain": [
       "vehicle_type  valid\n",
       "1             0           338\n",
       "              1            11\n",
       "2             0         78952\n",
       "              1        197852\n",
       "3             0          3733\n",
       "              1         12951\n",
       "4             0           984\n",
       "              1          4956\n",
       "Name: event_number, dtype: int64"
      ]
     },
     "execution_count": 107,
     "metadata": {},
     "output_type": "execute_result"
    }
   ],
   "source": [
    "vehicle_type_valid = data.groupby(['vehicle_type', 'valid'])['event_number'].count()\n",
    "vehicle_type_valid"
   ]
  },
  {
   "cell_type": "code",
   "execution_count": 109,
   "metadata": {},
   "outputs": [],
   "source": [
    "vehicle_type_valid_df = vehicle_type_valid.unstack()"
   ]
  },
  {
   "cell_type": "code",
   "execution_count": 112,
   "metadata": {},
   "outputs": [
    {
     "data": {
      "text/plain": [
       "<AxesSubplot:xlabel='vehicle_type'>"
      ]
     },
     "execution_count": 112,
     "metadata": {},
     "output_type": "execute_result"
    },
    {
     "data": {
      "image/png": "[encoded data removed]",
      "text/plain": [
       "<Figure size 432x288 with 1 Axes>"
      ]
     },
     "metadata": {
      "needs_background": "light"
     },
     "output_type": "display_data"
    }
   ],
   "source": [
    "vehicle_type_valid_df.plot(kind='bar', stacked=True)"
   ]
  },
  {
   "cell_type": "code",
   "execution_count": 116,
   "metadata": {},
   "outputs": [
    {
     "data": {
      "text/plain": [
       "<AxesSubplot:xlabel='vehicle_type'>"
      ]
     },
     "execution_count": 116,
     "metadata": {},
     "output_type": "execute_result"
    },
    {
     "data": {
      "image/png": "[encoded data removed]",
      "text/plain": [
       "<Figure size 432x288 with 1 Axes>"
      ]
     },
     "metadata": {
      "needs_background": "light"
     },
     "output_type": "display_data"
    }
   ],
   "source": [
    "vehicle_type_valid_df.plot(kind='bar', stacked=True, logy=True)"
   ]
  },
  {
   "cell_type": "code",
   "execution_count": 117,
   "metadata": {},
   "outputs": [
    {
     "data": {
      "text/plain": [
       "<AxesSubplot:xlabel='vehicle_type'>"
      ]
     },
     "execution_count": 117,
     "metadata": {},
     "output_type": "execute_result"
    },
    {
     "data": {
      "image/png": "[encoded data removed]",
      "text/plain": [
       "<Figure size 432x288 with 1 Axes>"
      ]
     },
     "metadata": {
      "needs_background": "light"
     },
     "output_type": "display_data"
    }
   ],
   "source": [
    "vehicle_type_valid_df.plot(kind='bar', stacked=True, logy='sym')"
   ]
  },
  {
   "cell_type": "markdown",
   "metadata": {},
   "source": [
    "### Key Points\n",
    "\n",
    "* Pandas is a popular library for working with data.\n",
    "* A Dataframe is a Pandas data structure that allows one to access data by column (name or index) or row.\n",
    "* Aggregating data using the `groupby()` function enables you to generate useful summaries of data quickly.\n",
    "* Plots can be created from DataFrames or subsets of data that have been generated with `groupby()`."
   ]
  },
  {
   "cell_type": "code",
   "execution_count": null,
   "metadata": {},
   "outputs": [],
   "source": []
  }
 ],
 "metadata": {
  "colab": {
   "name": "intro_python_data_analysis.ipynb",
   "provenance": []
  },
  "kernelspec": {
   "display_name": "Python 3 (ipykernel)",
   "language": "python",
   "name": "python3"
  },
  "language_info": {
   "codemirror_mode": {
    "name": "ipython",
    "version": 3
   },
   "file_extension": ".py",
   "mimetype": "text/x-python",
   "name": "python",
   "nbconvert_exporter": "python",
   "pygments_lexer": "ipython3",
   "version": "3.10.0"
  }
 },
 "nbformat": 4,
 "nbformat_minor": 4
}
