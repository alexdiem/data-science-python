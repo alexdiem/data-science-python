{
 "cells": [
  {
   "cell_type": "markdown",
   "metadata": {
    "id": "btPw4mz06tUN"
   },
   "source": [
    "# Plotting\n",
    "\n",
    "Create a series of plots that demonstrate how the distribution of data differs between the datasets containing trafikkregistreringsstasjon data:"
   ]
  },
  {
   "cell_type": "code",
   "execution_count": null,
   "metadata": {
    "id": "I71x2I47BNTQ"
   },
   "outputs": [],
   "source": []
  }
 ],
 "metadata": {
  "colab": {
   "name": "intro_python_data_analysis.ipynb",
   "provenance": []
  },
  "kernelspec": {
   "display_name": "Python 3 (ipykernel)",
   "language": "python",
   "name": "python3"
  },
  "language_info": {
   "codemirror_mode": {
    "name": "ipython",
    "version": 3
   },
   "file_extension": ".py",
   "mimetype": "text/x-python",
   "name": "python",
   "nbconvert_exporter": "python",
   "pygments_lexer": "ipython3",
   "version": "3.10.0"
  }
 },
 "nbformat": 4,
 "nbformat_minor": 4
}
